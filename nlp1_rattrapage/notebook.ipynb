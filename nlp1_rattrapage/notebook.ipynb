{
 "cells": [
  {
   "cell_type": "code",
   "execution_count": 3,
   "metadata": {},
   "outputs": [
    {
     "name": "stdout",
     "output_type": "stream",
     "text": [
      "✔ Download and installation successful\n",
      "You can now load the package via spacy.load('fr_core_news_md')\n"
     ]
    },
    {
     "name": "stderr",
     "output_type": "stream",
     "text": [
      "c:\\Users\\ibrao\\AppData\\Local\\pypoetry\\Cache\\virtualenvs\\nlp1-rattrapage-7qUmAFjS-py3.10\\lib\\site-packages\\past\\builtins\\misc.py:45: DeprecationWarning: the imp module is deprecated in favour of importlib and slated for removal in Python 3.12; see the module's documentation for alternative uses\n",
      "  from imp import reload\n",
      "c:\\Users\\ibrao\\AppData\\Local\\pypoetry\\Cache\\virtualenvs\\nlp1-rattrapage-7qUmAFjS-py3.10\\lib\\site-packages\\gensim\\matutils.py:22: DeprecationWarning: Please use `triu` from the `scipy.linalg` namespace, the `scipy.linalg.special_matrices` namespace is deprecated.\n",
      "  from scipy.linalg.special_matrices import triu\n"
     ]
    }
   ],
   "source": [
    "import os\n",
    "import pandas as pd\n",
    "import matplotlib.pyplot as plt\n",
    "import seaborn as sns\n",
    "sns.set()\n",
    "import spacy\n",
    "!python -m spacy download fr_core_news_md -qq\n",
    "import pyLDAvis.gensim_models\n",
    "pyLDAvis.enable_notebook()# Visualise inside a notebook\n",
    "import fr_core_news_md\n",
    "from PyPDF2 import PdfFileReader\n",
    "from gensim.corpora.dictionary import Dictionary\n",
    "from gensim.models import LdaMulticore\n",
    "from gensim.models import CoherenceModel"
   ]
  },
  {
   "cell_type": "code",
   "execution_count": 4,
   "metadata": {},
   "outputs": [],
   "source": [
    "# def get_documents(path):\n",
    "#   \"\"\"\n",
    "#   Extract text from a PDF file.\n",
    "#   \"\"\"\n",
    "#   dataset = []\n",
    "#   for file in os.listdir(path):\n",
    "#     if file.endswith('.pdf'):\n",
    "#       pdf_file = open(path + '/' + file, 'rb')\n",
    "#       pdf = PdfFleReader(pdf_file)\n",
    "#       text = \"\"\n",
    "#       for page in pdf.pages:\n",
    "#           text += page.extract_text()\n",
    "      \n",
    "#       row = [pdf.metadata.title, text]\n",
    "#     dataset.append(row)\n",
    "#   df = pd.DataFrame(dataset, columns=['title', 'text'])\n",
    "#   return df\n",
    "\n",
    "\n",
    "# df = get_documents('../docs')\n",
    "# df.head()"
   ]
  },
  {
   "cell_type": "markdown",
   "metadata": {},
   "source": [
    "[Project link here](https://towardsdatascience.com/topic-modelling-in-python-with-spacy-and-gensim-dc8f7748bdbf)"
   ]
  },
  {
   "cell_type": "markdown",
   "metadata": {},
   "source": [
    "### 1. Collecte des données"
   ]
  },
  {
   "cell_type": "code",
   "execution_count": 5,
   "metadata": {},
   "outputs": [
    {
     "name": "stderr",
     "output_type": "stream",
     "text": [
      "c:\\Users\\ibrao\\AppData\\Local\\pypoetry\\Cache\\virtualenvs\\nlp1-rattrapage-7qUmAFjS-py3.10\\lib\\site-packages\\PyPDF2\\_reader.py:1360: PdfReadWarning: Xref table not zero-indexed. ID numbers for objects will be corrected.\n",
      "  warnings.warn(\n",
      "c:\\Users\\ibrao\\AppData\\Local\\pypoetry\\Cache\\virtualenvs\\nlp1-rattrapage-7qUmAFjS-py3.10\\lib\\site-packages\\PyPDF2\\_page.py:1238: PdfReadWarning:  impossible to decode XFormObject /Im0\n",
      "  warnings.warn(\n"
     ]
    },
    {
     "data": {
      "text/html": [
       "<div>\n",
       "<style scoped>\n",
       "    .dataframe tbody tr th:only-of-type {\n",
       "        vertical-align: middle;\n",
       "    }\n",
       "\n",
       "    .dataframe tbody tr th {\n",
       "        vertical-align: top;\n",
       "    }\n",
       "\n",
       "    .dataframe thead th {\n",
       "        text-align: right;\n",
       "    }\n",
       "</style>\n",
       "<table border=\"1\" class=\"dataframe\">\n",
       "  <thead>\n",
       "    <tr style=\"text-align: right;\">\n",
       "      <th></th>\n",
       "      <th>PDF</th>\n",
       "      <th>Content</th>\n",
       "    </tr>\n",
       "  </thead>\n",
       "  <tbody>\n",
       "    <tr>\n",
       "      <th>0</th>\n",
       "      <td>BEA2016-0759.pdf</td>\n",
       "      <td>\\n\\n\\nLe pilote s’est désaxé de la trajectoire...</td>\n",
       "    </tr>\n",
       "    <tr>\n",
       "      <th>1</th>\n",
       "      <td>n-ca001215_05.pdf</td>\n",
       "      <td></td>\n",
       "    </tr>\n",
       "    <tr>\n",
       "      <th>2</th>\n",
       "      <td>n-tg000906_06.pdf</td>\n",
       "      <td>\\n\\n\\nL’accident résulte d’une décision inappr...</td>\n",
       "    </tr>\n",
       "  </tbody>\n",
       "</table>\n",
       "</div>"
      ],
      "text/plain": [
       "                 PDF                                            Content\n",
       "0   BEA2016-0759.pdf  \\n\\n\\nLe pilote s’est désaxé de la trajectoire...\n",
       "1  n-ca001215_05.pdf                                                   \n",
       "2  n-tg000906_06.pdf  \\n\\n\\nL’accident résulte d’une décision inappr..."
      ]
     },
     "execution_count": 5,
     "metadata": {},
     "output_type": "execute_result"
    }
   ],
   "source": [
    "def get_documents(path):\n",
    "  \"\"\"\n",
    "  Extract text from a PDF file.\n",
    "  \"\"\"\n",
    "  dataset = []\n",
    "  for file in os.listdir(path):\n",
    "    if file.endswith('.pdf'):\n",
    "      pdf_file = open(path + '/' + file, 'rb')\n",
    "      pdf = PdfFileReader(pdf_file)\n",
    "      page = pdf.pages[-1]\n",
    "      if file == 'BEA2016-0759.pdf':\n",
    "        text = page.extract_text()\n",
    "        text = text.split('Conclusion')[1]\n",
    "      elif file == 'n-ca001215_05.pdf':\n",
    "        # La section Conclusion est à l'avant dernière page\n",
    "        # contrairement aux 2 autres documents\n",
    "        text = \"\"\n",
    "        # page = pdf.pages[-1]\n",
    "        # text =  page.extract_text()\n",
    "        # print(text)\n",
    "        # text = text.split('Conclusion')[1]\n",
    "        \n",
    "      elif file == 'n-tg000906_06.pdf':\n",
    "        text = page.extract_text()\n",
    "        text = text.split('CONCLUSION')[1]\n",
    "       \n",
    "      row = [str(file), text]\n",
    "    dataset.append(row)\n",
    "  df = pd.DataFrame(dataset, columns=['PDF', 'Content'])\n",
    "  return df\n",
    "\n",
    "\n",
    "df = get_documents('../docs')\n",
    "df.head()"
   ]
  },
  {
   "cell_type": "code",
   "execution_count": 6,
   "metadata": {},
   "outputs": [
    {
     "data": {
      "text/plain": [
       "'\\n\\n\\nL’accident résulte d’une décision inappropriée de l’équipage dans le choix \\n\\n\\ndu/uni00A0cheminement utilisé pour réaliser un largage de barrage. Ce choix a probablement \\n\\n\\nété dicté par le fait que le copilote, pilote en fonction, pouvait mieux contrôler de sa \\n\\n\\nplace, notamment, le virage à droite sur la ville de Burzet. L’évolution à proximité \\n\\n\\ndu relief était inadaptée pour un avion de ce gabarit et nécessitait de la part de \\n\\n\\nl’équipage un pilotage aux limites du domaine de vol. La dernière phase de vol, \\n\\n\\nréalisée sans doute au second régime de vol, n’a pas permis au pilote de reprendre \\n\\n\\nsuffisamment de hauteur pour s’affranchir du relief. La charge de travail du copilote, \\n\\n\\npilote en fonction, ne lui a pas laissé le temps d’exécuter un largage d’urgence pour \\n\\n\\nalléger l’avion et dégager dans la vallée. Le soleil de face et la présence de fumée \\n\\n\\ndans la dernière ligne droite ont amené l’équipage à faire une appréciation erronée \\n\\n\\ndu relief. L’euphorie du dernier vol de la saison et du dernier largage a pu constituer \\n\\n\\nun/uni00A0facteur/uni00A0contributif.\\n\\n(2)\\n\\nA l’heure de \\n\\nl’accident, l’azimut du \\n\\nsoleil était 79° à/uni00A0partir \\n\\ndu sud (environ 100° \\n\\nà partir du nord) \\n\\npour un site de 18° '"
      ]
     },
     "execution_count": 6,
     "metadata": {},
     "output_type": "execute_result"
    }
   ],
   "source": [
    "df['Content'][2]"
   ]
  },
  {
   "cell_type": "markdown",
   "metadata": {},
   "source": [
    "### 2. Processer les données"
   ]
  },
  {
   "cell_type": "code",
   "execution_count": 7,
   "metadata": {},
   "outputs": [
    {
     "name": "stderr",
     "output_type": "stream",
     "text": [
      "c:\\Users\\ibrao\\AppData\\Local\\pypoetry\\Cache\\virtualenvs\\nlp1-rattrapage-7qUmAFjS-py3.10\\lib\\site-packages\\catalogue\\__init__.py:135: DeprecationWarning: SelectableGroups dict interface is deprecated. Use select.\n",
      "  for entry_point in AVAILABLE_ENTRY_POINTS.get(self.entry_point_namespace, []):\n",
      "c:\\Users\\ibrao\\AppData\\Local\\pypoetry\\Cache\\virtualenvs\\nlp1-rattrapage-7qUmAFjS-py3.10\\lib\\site-packages\\catalogue\\__init__.py:135: DeprecationWarning: SelectableGroups dict interface is deprecated. Use select.\n",
      "  for entry_point in AVAILABLE_ENTRY_POINTS.get(self.entry_point_namespace, []):\n",
      "c:\\Users\\ibrao\\AppData\\Local\\pypoetry\\Cache\\virtualenvs\\nlp1-rattrapage-7qUmAFjS-py3.10\\lib\\site-packages\\catalogue\\__init__.py:135: DeprecationWarning: SelectableGroups dict interface is deprecated. Use select.\n",
      "  for entry_point in AVAILABLE_ENTRY_POINTS.get(self.entry_point_namespace, []):\n",
      "c:\\Users\\ibrao\\AppData\\Local\\pypoetry\\Cache\\virtualenvs\\nlp1-rattrapage-7qUmAFjS-py3.10\\lib\\site-packages\\catalogue\\__init__.py:135: DeprecationWarning: SelectableGroups dict interface is deprecated. Use select.\n",
      "  for entry_point in AVAILABLE_ENTRY_POINTS.get(self.entry_point_namespace, []):\n",
      "c:\\Users\\ibrao\\AppData\\Local\\pypoetry\\Cache\\virtualenvs\\nlp1-rattrapage-7qUmAFjS-py3.10\\lib\\site-packages\\catalogue\\__init__.py:123: DeprecationWarning: SelectableGroups dict interface is deprecated. Use select.\n",
      "  for entry_point in AVAILABLE_ENTRY_POINTS.get(self.entry_point_namespace, []):\n",
      "c:\\Users\\ibrao\\AppData\\Local\\pypoetry\\Cache\\virtualenvs\\nlp1-rattrapage-7qUmAFjS-py3.10\\lib\\site-packages\\catalogue\\__init__.py:123: DeprecationWarning: SelectableGroups dict interface is deprecated. Use select.\n",
      "  for entry_point in AVAILABLE_ENTRY_POINTS.get(self.entry_point_namespace, []):\n",
      "c:\\Users\\ibrao\\AppData\\Local\\pypoetry\\Cache\\virtualenvs\\nlp1-rattrapage-7qUmAFjS-py3.10\\lib\\site-packages\\catalogue\\__init__.py:135: DeprecationWarning: SelectableGroups dict interface is deprecated. Use select.\n",
      "  for entry_point in AVAILABLE_ENTRY_POINTS.get(self.entry_point_namespace, []):\n",
      "c:\\Users\\ibrao\\AppData\\Local\\pypoetry\\Cache\\virtualenvs\\nlp1-rattrapage-7qUmAFjS-py3.10\\lib\\site-packages\\catalogue\\__init__.py:135: DeprecationWarning: SelectableGroups dict interface is deprecated. Use select.\n",
      "  for entry_point in AVAILABLE_ENTRY_POINTS.get(self.entry_point_namespace, []):\n",
      "c:\\Users\\ibrao\\AppData\\Local\\pypoetry\\Cache\\virtualenvs\\nlp1-rattrapage-7qUmAFjS-py3.10\\lib\\site-packages\\catalogue\\__init__.py:135: DeprecationWarning: SelectableGroups dict interface is deprecated. Use select.\n",
      "  for entry_point in AVAILABLE_ENTRY_POINTS.get(self.entry_point_namespace, []):\n",
      "c:\\Users\\ibrao\\AppData\\Local\\pypoetry\\Cache\\virtualenvs\\nlp1-rattrapage-7qUmAFjS-py3.10\\lib\\site-packages\\catalogue\\__init__.py:135: DeprecationWarning: SelectableGroups dict interface is deprecated. Use select.\n",
      "  for entry_point in AVAILABLE_ENTRY_POINTS.get(self.entry_point_namespace, []):\n",
      "c:\\Users\\ibrao\\AppData\\Local\\pypoetry\\Cache\\virtualenvs\\nlp1-rattrapage-7qUmAFjS-py3.10\\lib\\site-packages\\catalogue\\__init__.py:135: DeprecationWarning: SelectableGroups dict interface is deprecated. Use select.\n",
      "  for entry_point in AVAILABLE_ENTRY_POINTS.get(self.entry_point_namespace, []):\n",
      "c:\\Users\\ibrao\\AppData\\Local\\pypoetry\\Cache\\virtualenvs\\nlp1-rattrapage-7qUmAFjS-py3.10\\lib\\site-packages\\catalogue\\__init__.py:135: DeprecationWarning: SelectableGroups dict interface is deprecated. Use select.\n",
      "  for entry_point in AVAILABLE_ENTRY_POINTS.get(self.entry_point_namespace, []):\n",
      "c:\\Users\\ibrao\\AppData\\Local\\pypoetry\\Cache\\virtualenvs\\nlp1-rattrapage-7qUmAFjS-py3.10\\lib\\site-packages\\catalogue\\__init__.py:135: DeprecationWarning: SelectableGroups dict interface is deprecated. Use select.\n",
      "  for entry_point in AVAILABLE_ENTRY_POINTS.get(self.entry_point_namespace, []):\n",
      "c:\\Users\\ibrao\\AppData\\Local\\pypoetry\\Cache\\virtualenvs\\nlp1-rattrapage-7qUmAFjS-py3.10\\lib\\site-packages\\catalogue\\__init__.py:135: DeprecationWarning: SelectableGroups dict interface is deprecated. Use select.\n",
      "  for entry_point in AVAILABLE_ENTRY_POINTS.get(self.entry_point_namespace, []):\n",
      "c:\\Users\\ibrao\\AppData\\Local\\pypoetry\\Cache\\virtualenvs\\nlp1-rattrapage-7qUmAFjS-py3.10\\lib\\site-packages\\catalogue\\__init__.py:135: DeprecationWarning: SelectableGroups dict interface is deprecated. Use select.\n",
      "  for entry_point in AVAILABLE_ENTRY_POINTS.get(self.entry_point_namespace, []):\n",
      "c:\\Users\\ibrao\\AppData\\Local\\pypoetry\\Cache\\virtualenvs\\nlp1-rattrapage-7qUmAFjS-py3.10\\lib\\site-packages\\catalogue\\__init__.py:135: DeprecationWarning: SelectableGroups dict interface is deprecated. Use select.\n",
      "  for entry_point in AVAILABLE_ENTRY_POINTS.get(self.entry_point_namespace, []):\n",
      "c:\\Users\\ibrao\\AppData\\Local\\pypoetry\\Cache\\virtualenvs\\nlp1-rattrapage-7qUmAFjS-py3.10\\lib\\site-packages\\catalogue\\__init__.py:135: DeprecationWarning: SelectableGroups dict interface is deprecated. Use select.\n",
      "  for entry_point in AVAILABLE_ENTRY_POINTS.get(self.entry_point_namespace, []):\n",
      "c:\\Users\\ibrao\\AppData\\Local\\pypoetry\\Cache\\virtualenvs\\nlp1-rattrapage-7qUmAFjS-py3.10\\lib\\site-packages\\catalogue\\__init__.py:135: DeprecationWarning: SelectableGroups dict interface is deprecated. Use select.\n",
      "  for entry_point in AVAILABLE_ENTRY_POINTS.get(self.entry_point_namespace, []):\n",
      "c:\\Users\\ibrao\\AppData\\Local\\pypoetry\\Cache\\virtualenvs\\nlp1-rattrapage-7qUmAFjS-py3.10\\lib\\site-packages\\catalogue\\__init__.py:135: DeprecationWarning: SelectableGroups dict interface is deprecated. Use select.\n",
      "  for entry_point in AVAILABLE_ENTRY_POINTS.get(self.entry_point_namespace, []):\n",
      "c:\\Users\\ibrao\\AppData\\Local\\pypoetry\\Cache\\virtualenvs\\nlp1-rattrapage-7qUmAFjS-py3.10\\lib\\site-packages\\catalogue\\__init__.py:135: DeprecationWarning: SelectableGroups dict interface is deprecated. Use select.\n",
      "  for entry_point in AVAILABLE_ENTRY_POINTS.get(self.entry_point_namespace, []):\n",
      "c:\\Users\\ibrao\\AppData\\Local\\pypoetry\\Cache\\virtualenvs\\nlp1-rattrapage-7qUmAFjS-py3.10\\lib\\site-packages\\catalogue\\__init__.py:135: DeprecationWarning: SelectableGroups dict interface is deprecated. Use select.\n",
      "  for entry_point in AVAILABLE_ENTRY_POINTS.get(self.entry_point_namespace, []):\n",
      "c:\\Users\\ibrao\\AppData\\Local\\pypoetry\\Cache\\virtualenvs\\nlp1-rattrapage-7qUmAFjS-py3.10\\lib\\site-packages\\catalogue\\__init__.py:135: DeprecationWarning: SelectableGroups dict interface is deprecated. Use select.\n",
      "  for entry_point in AVAILABLE_ENTRY_POINTS.get(self.entry_point_namespace, []):\n",
      "c:\\Users\\ibrao\\AppData\\Local\\pypoetry\\Cache\\virtualenvs\\nlp1-rattrapage-7qUmAFjS-py3.10\\lib\\site-packages\\catalogue\\__init__.py:135: DeprecationWarning: SelectableGroups dict interface is deprecated. Use select.\n",
      "  for entry_point in AVAILABLE_ENTRY_POINTS.get(self.entry_point_namespace, []):\n",
      "c:\\Users\\ibrao\\AppData\\Local\\pypoetry\\Cache\\virtualenvs\\nlp1-rattrapage-7qUmAFjS-py3.10\\lib\\site-packages\\catalogue\\__init__.py:135: DeprecationWarning: SelectableGroups dict interface is deprecated. Use select.\n",
      "  for entry_point in AVAILABLE_ENTRY_POINTS.get(self.entry_point_namespace, []):\n",
      "c:\\Users\\ibrao\\AppData\\Local\\pypoetry\\Cache\\virtualenvs\\nlp1-rattrapage-7qUmAFjS-py3.10\\lib\\site-packages\\catalogue\\__init__.py:135: DeprecationWarning: SelectableGroups dict interface is deprecated. Use select.\n",
      "  for entry_point in AVAILABLE_ENTRY_POINTS.get(self.entry_point_namespace, []):\n",
      "c:\\Users\\ibrao\\AppData\\Local\\pypoetry\\Cache\\virtualenvs\\nlp1-rattrapage-7qUmAFjS-py3.10\\lib\\site-packages\\catalogue\\__init__.py:135: DeprecationWarning: SelectableGroups dict interface is deprecated. Use select.\n",
      "  for entry_point in AVAILABLE_ENTRY_POINTS.get(self.entry_point_namespace, []):\n",
      "c:\\Users\\ibrao\\AppData\\Local\\pypoetry\\Cache\\virtualenvs\\nlp1-rattrapage-7qUmAFjS-py3.10\\lib\\site-packages\\catalogue\\__init__.py:135: DeprecationWarning: SelectableGroups dict interface is deprecated. Use select.\n",
      "  for entry_point in AVAILABLE_ENTRY_POINTS.get(self.entry_point_namespace, []):\n",
      "c:\\Users\\ibrao\\AppData\\Local\\pypoetry\\Cache\\virtualenvs\\nlp1-rattrapage-7qUmAFjS-py3.10\\lib\\site-packages\\catalogue\\__init__.py:135: DeprecationWarning: SelectableGroups dict interface is deprecated. Use select.\n",
      "  for entry_point in AVAILABLE_ENTRY_POINTS.get(self.entry_point_namespace, []):\n",
      "c:\\Users\\ibrao\\AppData\\Local\\pypoetry\\Cache\\virtualenvs\\nlp1-rattrapage-7qUmAFjS-py3.10\\lib\\site-packages\\catalogue\\__init__.py:135: DeprecationWarning: SelectableGroups dict interface is deprecated. Use select.\n",
      "  for entry_point in AVAILABLE_ENTRY_POINTS.get(self.entry_point_namespace, []):\n",
      "c:\\Users\\ibrao\\AppData\\Local\\pypoetry\\Cache\\virtualenvs\\nlp1-rattrapage-7qUmAFjS-py3.10\\lib\\site-packages\\catalogue\\__init__.py:135: DeprecationWarning: SelectableGroups dict interface is deprecated. Use select.\n",
      "  for entry_point in AVAILABLE_ENTRY_POINTS.get(self.entry_point_namespace, []):\n",
      "c:\\Users\\ibrao\\AppData\\Local\\pypoetry\\Cache\\virtualenvs\\nlp1-rattrapage-7qUmAFjS-py3.10\\lib\\site-packages\\catalogue\\__init__.py:135: DeprecationWarning: SelectableGroups dict interface is deprecated. Use select.\n",
      "  for entry_point in AVAILABLE_ENTRY_POINTS.get(self.entry_point_namespace, []):\n",
      "c:\\Users\\ibrao\\AppData\\Local\\pypoetry\\Cache\\virtualenvs\\nlp1-rattrapage-7qUmAFjS-py3.10\\lib\\site-packages\\catalogue\\__init__.py:135: DeprecationWarning: SelectableGroups dict interface is deprecated. Use select.\n",
      "  for entry_point in AVAILABLE_ENTRY_POINTS.get(self.entry_point_namespace, []):\n",
      "c:\\Users\\ibrao\\AppData\\Local\\pypoetry\\Cache\\virtualenvs\\nlp1-rattrapage-7qUmAFjS-py3.10\\lib\\site-packages\\catalogue\\__init__.py:135: DeprecationWarning: SelectableGroups dict interface is deprecated. Use select.\n",
      "  for entry_point in AVAILABLE_ENTRY_POINTS.get(self.entry_point_namespace, []):\n",
      "c:\\Users\\ibrao\\AppData\\Local\\pypoetry\\Cache\\virtualenvs\\nlp1-rattrapage-7qUmAFjS-py3.10\\lib\\site-packages\\catalogue\\__init__.py:135: DeprecationWarning: SelectableGroups dict interface is deprecated. Use select.\n",
      "  for entry_point in AVAILABLE_ENTRY_POINTS.get(self.entry_point_namespace, []):\n",
      "c:\\Users\\ibrao\\AppData\\Local\\pypoetry\\Cache\\virtualenvs\\nlp1-rattrapage-7qUmAFjS-py3.10\\lib\\site-packages\\catalogue\\__init__.py:123: DeprecationWarning: SelectableGroups dict interface is deprecated. Use select.\n",
      "  for entry_point in AVAILABLE_ENTRY_POINTS.get(self.entry_point_namespace, []):\n",
      "c:\\Users\\ibrao\\AppData\\Local\\pypoetry\\Cache\\virtualenvs\\nlp1-rattrapage-7qUmAFjS-py3.10\\lib\\site-packages\\catalogue\\__init__.py:135: DeprecationWarning: SelectableGroups dict interface is deprecated. Use select.\n",
      "  for entry_point in AVAILABLE_ENTRY_POINTS.get(self.entry_point_namespace, []):\n",
      "c:\\Users\\ibrao\\AppData\\Local\\pypoetry\\Cache\\virtualenvs\\nlp1-rattrapage-7qUmAFjS-py3.10\\lib\\site-packages\\catalogue\\__init__.py:135: DeprecationWarning: SelectableGroups dict interface is deprecated. Use select.\n",
      "  for entry_point in AVAILABLE_ENTRY_POINTS.get(self.entry_point_namespace, []):\n",
      "c:\\Users\\ibrao\\AppData\\Local\\pypoetry\\Cache\\virtualenvs\\nlp1-rattrapage-7qUmAFjS-py3.10\\lib\\site-packages\\catalogue\\__init__.py:135: DeprecationWarning: SelectableGroups dict interface is deprecated. Use select.\n",
      "  for entry_point in AVAILABLE_ENTRY_POINTS.get(self.entry_point_namespace, []):\n",
      "c:\\Users\\ibrao\\AppData\\Local\\pypoetry\\Cache\\virtualenvs\\nlp1-rattrapage-7qUmAFjS-py3.10\\lib\\site-packages\\catalogue\\__init__.py:135: DeprecationWarning: SelectableGroups dict interface is deprecated. Use select.\n",
      "  for entry_point in AVAILABLE_ENTRY_POINTS.get(self.entry_point_namespace, []):\n",
      "c:\\Users\\ibrao\\AppData\\Local\\pypoetry\\Cache\\virtualenvs\\nlp1-rattrapage-7qUmAFjS-py3.10\\lib\\site-packages\\catalogue\\__init__.py:135: DeprecationWarning: SelectableGroups dict interface is deprecated. Use select.\n",
      "  for entry_point in AVAILABLE_ENTRY_POINTS.get(self.entry_point_namespace, []):\n",
      "c:\\Users\\ibrao\\AppData\\Local\\pypoetry\\Cache\\virtualenvs\\nlp1-rattrapage-7qUmAFjS-py3.10\\lib\\site-packages\\catalogue\\__init__.py:135: DeprecationWarning: SelectableGroups dict interface is deprecated. Use select.\n",
      "  for entry_point in AVAILABLE_ENTRY_POINTS.get(self.entry_point_namespace, []):\n",
      "c:\\Users\\ibrao\\AppData\\Local\\pypoetry\\Cache\\virtualenvs\\nlp1-rattrapage-7qUmAFjS-py3.10\\lib\\site-packages\\catalogue\\__init__.py:135: DeprecationWarning: SelectableGroups dict interface is deprecated. Use select.\n",
      "  for entry_point in AVAILABLE_ENTRY_POINTS.get(self.entry_point_namespace, []):\n",
      "c:\\Users\\ibrao\\AppData\\Local\\pypoetry\\Cache\\virtualenvs\\nlp1-rattrapage-7qUmAFjS-py3.10\\lib\\site-packages\\catalogue\\__init__.py:135: DeprecationWarning: SelectableGroups dict interface is deprecated. Use select.\n",
      "  for entry_point in AVAILABLE_ENTRY_POINTS.get(self.entry_point_namespace, []):\n",
      "c:\\Users\\ibrao\\AppData\\Local\\pypoetry\\Cache\\virtualenvs\\nlp1-rattrapage-7qUmAFjS-py3.10\\lib\\site-packages\\catalogue\\__init__.py:135: DeprecationWarning: SelectableGroups dict interface is deprecated. Use select.\n",
      "  for entry_point in AVAILABLE_ENTRY_POINTS.get(self.entry_point_namespace, []):\n",
      "c:\\Users\\ibrao\\AppData\\Local\\pypoetry\\Cache\\virtualenvs\\nlp1-rattrapage-7qUmAFjS-py3.10\\lib\\site-packages\\catalogue\\__init__.py:135: DeprecationWarning: SelectableGroups dict interface is deprecated. Use select.\n",
      "  for entry_point in AVAILABLE_ENTRY_POINTS.get(self.entry_point_namespace, []):\n",
      "c:\\Users\\ibrao\\AppData\\Local\\pypoetry\\Cache\\virtualenvs\\nlp1-rattrapage-7qUmAFjS-py3.10\\lib\\site-packages\\catalogue\\__init__.py:135: DeprecationWarning: SelectableGroups dict interface is deprecated. Use select.\n",
      "  for entry_point in AVAILABLE_ENTRY_POINTS.get(self.entry_point_namespace, []):\n",
      "c:\\Users\\ibrao\\AppData\\Local\\pypoetry\\Cache\\virtualenvs\\nlp1-rattrapage-7qUmAFjS-py3.10\\lib\\site-packages\\catalogue\\__init__.py:135: DeprecationWarning: SelectableGroups dict interface is deprecated. Use select.\n",
      "  for entry_point in AVAILABLE_ENTRY_POINTS.get(self.entry_point_namespace, []):\n",
      "c:\\Users\\ibrao\\AppData\\Local\\pypoetry\\Cache\\virtualenvs\\nlp1-rattrapage-7qUmAFjS-py3.10\\lib\\site-packages\\catalogue\\__init__.py:135: DeprecationWarning: SelectableGroups dict interface is deprecated. Use select.\n",
      "  for entry_point in AVAILABLE_ENTRY_POINTS.get(self.entry_point_namespace, []):\n",
      "c:\\Users\\ibrao\\AppData\\Local\\pypoetry\\Cache\\virtualenvs\\nlp1-rattrapage-7qUmAFjS-py3.10\\lib\\site-packages\\catalogue\\__init__.py:135: DeprecationWarning: SelectableGroups dict interface is deprecated. Use select.\n",
      "  for entry_point in AVAILABLE_ENTRY_POINTS.get(self.entry_point_namespace, []):\n",
      "c:\\Users\\ibrao\\AppData\\Local\\pypoetry\\Cache\\virtualenvs\\nlp1-rattrapage-7qUmAFjS-py3.10\\lib\\site-packages\\catalogue\\__init__.py:135: DeprecationWarning: SelectableGroups dict interface is deprecated. Use select.\n",
      "  for entry_point in AVAILABLE_ENTRY_POINTS.get(self.entry_point_namespace, []):\n",
      "c:\\Users\\ibrao\\AppData\\Local\\pypoetry\\Cache\\virtualenvs\\nlp1-rattrapage-7qUmAFjS-py3.10\\lib\\site-packages\\catalogue\\__init__.py:135: DeprecationWarning: SelectableGroups dict interface is deprecated. Use select.\n",
      "  for entry_point in AVAILABLE_ENTRY_POINTS.get(self.entry_point_namespace, []):\n",
      "c:\\Users\\ibrao\\AppData\\Local\\pypoetry\\Cache\\virtualenvs\\nlp1-rattrapage-7qUmAFjS-py3.10\\lib\\site-packages\\catalogue\\__init__.py:135: DeprecationWarning: SelectableGroups dict interface is deprecated. Use select.\n",
      "  for entry_point in AVAILABLE_ENTRY_POINTS.get(self.entry_point_namespace, []):\n",
      "c:\\Users\\ibrao\\AppData\\Local\\pypoetry\\Cache\\virtualenvs\\nlp1-rattrapage-7qUmAFjS-py3.10\\lib\\site-packages\\catalogue\\__init__.py:135: DeprecationWarning: SelectableGroups dict interface is deprecated. Use select.\n",
      "  for entry_point in AVAILABLE_ENTRY_POINTS.get(self.entry_point_namespace, []):\n",
      "c:\\Users\\ibrao\\AppData\\Local\\pypoetry\\Cache\\virtualenvs\\nlp1-rattrapage-7qUmAFjS-py3.10\\lib\\site-packages\\catalogue\\__init__.py:135: DeprecationWarning: SelectableGroups dict interface is deprecated. Use select.\n",
      "  for entry_point in AVAILABLE_ENTRY_POINTS.get(self.entry_point_namespace, []):\n",
      "c:\\Users\\ibrao\\AppData\\Local\\pypoetry\\Cache\\virtualenvs\\nlp1-rattrapage-7qUmAFjS-py3.10\\lib\\site-packages\\catalogue\\__init__.py:135: DeprecationWarning: SelectableGroups dict interface is deprecated. Use select.\n",
      "  for entry_point in AVAILABLE_ENTRY_POINTS.get(self.entry_point_namespace, []):\n",
      "c:\\Users\\ibrao\\AppData\\Local\\pypoetry\\Cache\\virtualenvs\\nlp1-rattrapage-7qUmAFjS-py3.10\\lib\\site-packages\\catalogue\\__init__.py:135: DeprecationWarning: SelectableGroups dict interface is deprecated. Use select.\n",
      "  for entry_point in AVAILABLE_ENTRY_POINTS.get(self.entry_point_namespace, []):\n",
      "c:\\Users\\ibrao\\AppData\\Local\\pypoetry\\Cache\\virtualenvs\\nlp1-rattrapage-7qUmAFjS-py3.10\\lib\\site-packages\\catalogue\\__init__.py:135: DeprecationWarning: SelectableGroups dict interface is deprecated. Use select.\n",
      "  for entry_point in AVAILABLE_ENTRY_POINTS.get(self.entry_point_namespace, []):\n",
      "c:\\Users\\ibrao\\AppData\\Local\\pypoetry\\Cache\\virtualenvs\\nlp1-rattrapage-7qUmAFjS-py3.10\\lib\\site-packages\\catalogue\\__init__.py:135: DeprecationWarning: SelectableGroups dict interface is deprecated. Use select.\n",
      "  for entry_point in AVAILABLE_ENTRY_POINTS.get(self.entry_point_namespace, []):\n",
      "c:\\Users\\ibrao\\AppData\\Local\\pypoetry\\Cache\\virtualenvs\\nlp1-rattrapage-7qUmAFjS-py3.10\\lib\\site-packages\\catalogue\\__init__.py:135: DeprecationWarning: SelectableGroups dict interface is deprecated. Use select.\n",
      "  for entry_point in AVAILABLE_ENTRY_POINTS.get(self.entry_point_namespace, []):\n",
      "c:\\Users\\ibrao\\AppData\\Local\\pypoetry\\Cache\\virtualenvs\\nlp1-rattrapage-7qUmAFjS-py3.10\\lib\\site-packages\\catalogue\\__init__.py:135: DeprecationWarning: SelectableGroups dict interface is deprecated. Use select.\n",
      "  for entry_point in AVAILABLE_ENTRY_POINTS.get(self.entry_point_namespace, []):\n",
      "c:\\Users\\ibrao\\AppData\\Local\\pypoetry\\Cache\\virtualenvs\\nlp1-rattrapage-7qUmAFjS-py3.10\\lib\\site-packages\\catalogue\\__init__.py:135: DeprecationWarning: SelectableGroups dict interface is deprecated. Use select.\n",
      "  for entry_point in AVAILABLE_ENTRY_POINTS.get(self.entry_point_namespace, []):\n",
      "c:\\Users\\ibrao\\AppData\\Local\\pypoetry\\Cache\\virtualenvs\\nlp1-rattrapage-7qUmAFjS-py3.10\\lib\\site-packages\\catalogue\\__init__.py:135: DeprecationWarning: SelectableGroups dict interface is deprecated. Use select.\n",
      "  for entry_point in AVAILABLE_ENTRY_POINTS.get(self.entry_point_namespace, []):\n",
      "c:\\Users\\ibrao\\AppData\\Local\\pypoetry\\Cache\\virtualenvs\\nlp1-rattrapage-7qUmAFjS-py3.10\\lib\\site-packages\\catalogue\\__init__.py:135: DeprecationWarning: SelectableGroups dict interface is deprecated. Use select.\n",
      "  for entry_point in AVAILABLE_ENTRY_POINTS.get(self.entry_point_namespace, []):\n",
      "c:\\Users\\ibrao\\AppData\\Local\\pypoetry\\Cache\\virtualenvs\\nlp1-rattrapage-7qUmAFjS-py3.10\\lib\\site-packages\\catalogue\\__init__.py:135: DeprecationWarning: SelectableGroups dict interface is deprecated. Use select.\n",
      "  for entry_point in AVAILABLE_ENTRY_POINTS.get(self.entry_point_namespace, []):\n",
      "c:\\Users\\ibrao\\AppData\\Local\\pypoetry\\Cache\\virtualenvs\\nlp1-rattrapage-7qUmAFjS-py3.10\\lib\\site-packages\\catalogue\\__init__.py:135: DeprecationWarning: SelectableGroups dict interface is deprecated. Use select.\n",
      "  for entry_point in AVAILABLE_ENTRY_POINTS.get(self.entry_point_namespace, []):\n",
      "c:\\Users\\ibrao\\AppData\\Local\\pypoetry\\Cache\\virtualenvs\\nlp1-rattrapage-7qUmAFjS-py3.10\\lib\\site-packages\\catalogue\\__init__.py:135: DeprecationWarning: SelectableGroups dict interface is deprecated. Use select.\n",
      "  for entry_point in AVAILABLE_ENTRY_POINTS.get(self.entry_point_namespace, []):\n",
      "c:\\Users\\ibrao\\AppData\\Local\\pypoetry\\Cache\\virtualenvs\\nlp1-rattrapage-7qUmAFjS-py3.10\\lib\\site-packages\\catalogue\\__init__.py:135: DeprecationWarning: SelectableGroups dict interface is deprecated. Use select.\n",
      "  for entry_point in AVAILABLE_ENTRY_POINTS.get(self.entry_point_namespace, []):\n",
      "c:\\Users\\ibrao\\AppData\\Local\\pypoetry\\Cache\\virtualenvs\\nlp1-rattrapage-7qUmAFjS-py3.10\\lib\\site-packages\\catalogue\\__init__.py:135: DeprecationWarning: SelectableGroups dict interface is deprecated. Use select.\n",
      "  for entry_point in AVAILABLE_ENTRY_POINTS.get(self.entry_point_namespace, []):\n",
      "c:\\Users\\ibrao\\AppData\\Local\\pypoetry\\Cache\\virtualenvs\\nlp1-rattrapage-7qUmAFjS-py3.10\\lib\\site-packages\\catalogue\\__init__.py:135: DeprecationWarning: SelectableGroups dict interface is deprecated. Use select.\n",
      "  for entry_point in AVAILABLE_ENTRY_POINTS.get(self.entry_point_namespace, []):\n",
      "c:\\Users\\ibrao\\AppData\\Local\\pypoetry\\Cache\\virtualenvs\\nlp1-rattrapage-7qUmAFjS-py3.10\\lib\\site-packages\\catalogue\\__init__.py:135: DeprecationWarning: SelectableGroups dict interface is deprecated. Use select.\n",
      "  for entry_point in AVAILABLE_ENTRY_POINTS.get(self.entry_point_namespace, []):\n",
      "c:\\Users\\ibrao\\AppData\\Local\\pypoetry\\Cache\\virtualenvs\\nlp1-rattrapage-7qUmAFjS-py3.10\\lib\\site-packages\\catalogue\\__init__.py:135: DeprecationWarning: SelectableGroups dict interface is deprecated. Use select.\n",
      "  for entry_point in AVAILABLE_ENTRY_POINTS.get(self.entry_point_namespace, []):\n",
      "c:\\Users\\ibrao\\AppData\\Local\\pypoetry\\Cache\\virtualenvs\\nlp1-rattrapage-7qUmAFjS-py3.10\\lib\\site-packages\\catalogue\\__init__.py:135: DeprecationWarning: SelectableGroups dict interface is deprecated. Use select.\n",
      "  for entry_point in AVAILABLE_ENTRY_POINTS.get(self.entry_point_namespace, []):\n",
      "c:\\Users\\ibrao\\AppData\\Local\\pypoetry\\Cache\\virtualenvs\\nlp1-rattrapage-7qUmAFjS-py3.10\\lib\\site-packages\\catalogue\\__init__.py:135: DeprecationWarning: SelectableGroups dict interface is deprecated. Use select.\n",
      "  for entry_point in AVAILABLE_ENTRY_POINTS.get(self.entry_point_namespace, []):\n",
      "c:\\Users\\ibrao\\AppData\\Local\\pypoetry\\Cache\\virtualenvs\\nlp1-rattrapage-7qUmAFjS-py3.10\\lib\\site-packages\\catalogue\\__init__.py:135: DeprecationWarning: SelectableGroups dict interface is deprecated. Use select.\n",
      "  for entry_point in AVAILABLE_ENTRY_POINTS.get(self.entry_point_namespace, []):\n",
      "c:\\Users\\ibrao\\AppData\\Local\\pypoetry\\Cache\\virtualenvs\\nlp1-rattrapage-7qUmAFjS-py3.10\\lib\\site-packages\\catalogue\\__init__.py:135: DeprecationWarning: SelectableGroups dict interface is deprecated. Use select.\n",
      "  for entry_point in AVAILABLE_ENTRY_POINTS.get(self.entry_point_namespace, []):\n",
      "c:\\Users\\ibrao\\AppData\\Local\\pypoetry\\Cache\\virtualenvs\\nlp1-rattrapage-7qUmAFjS-py3.10\\lib\\site-packages\\catalogue\\__init__.py:135: DeprecationWarning: SelectableGroups dict interface is deprecated. Use select.\n",
      "  for entry_point in AVAILABLE_ENTRY_POINTS.get(self.entry_point_namespace, []):\n",
      "c:\\Users\\ibrao\\AppData\\Local\\pypoetry\\Cache\\virtualenvs\\nlp1-rattrapage-7qUmAFjS-py3.10\\lib\\site-packages\\catalogue\\__init__.py:135: DeprecationWarning: SelectableGroups dict interface is deprecated. Use select.\n",
      "  for entry_point in AVAILABLE_ENTRY_POINTS.get(self.entry_point_namespace, []):\n",
      "c:\\Users\\ibrao\\AppData\\Local\\pypoetry\\Cache\\virtualenvs\\nlp1-rattrapage-7qUmAFjS-py3.10\\lib\\site-packages\\catalogue\\__init__.py:135: DeprecationWarning: SelectableGroups dict interface is deprecated. Use select.\n",
      "  for entry_point in AVAILABLE_ENTRY_POINTS.get(self.entry_point_namespace, []):\n",
      "c:\\Users\\ibrao\\AppData\\Local\\pypoetry\\Cache\\virtualenvs\\nlp1-rattrapage-7qUmAFjS-py3.10\\lib\\site-packages\\catalogue\\__init__.py:135: DeprecationWarning: SelectableGroups dict interface is deprecated. Use select.\n",
      "  for entry_point in AVAILABLE_ENTRY_POINTS.get(self.entry_point_namespace, []):\n",
      "c:\\Users\\ibrao\\AppData\\Local\\pypoetry\\Cache\\virtualenvs\\nlp1-rattrapage-7qUmAFjS-py3.10\\lib\\site-packages\\catalogue\\__init__.py:123: DeprecationWarning: SelectableGroups dict interface is deprecated. Use select.\n",
      "  for entry_point in AVAILABLE_ENTRY_POINTS.get(self.entry_point_namespace, []):\n",
      "c:\\Users\\ibrao\\AppData\\Local\\pypoetry\\Cache\\virtualenvs\\nlp1-rattrapage-7qUmAFjS-py3.10\\lib\\site-packages\\catalogue\\__init__.py:135: DeprecationWarning: SelectableGroups dict interface is deprecated. Use select.\n",
      "  for entry_point in AVAILABLE_ENTRY_POINTS.get(self.entry_point_namespace, []):\n",
      "c:\\Users\\ibrao\\AppData\\Local\\pypoetry\\Cache\\virtualenvs\\nlp1-rattrapage-7qUmAFjS-py3.10\\lib\\site-packages\\catalogue\\__init__.py:135: DeprecationWarning: SelectableGroups dict interface is deprecated. Use select.\n",
      "  for entry_point in AVAILABLE_ENTRY_POINTS.get(self.entry_point_namespace, []):\n",
      "c:\\Users\\ibrao\\AppData\\Local\\pypoetry\\Cache\\virtualenvs\\nlp1-rattrapage-7qUmAFjS-py3.10\\lib\\site-packages\\catalogue\\__init__.py:135: DeprecationWarning: SelectableGroups dict interface is deprecated. Use select.\n",
      "  for entry_point in AVAILABLE_ENTRY_POINTS.get(self.entry_point_namespace, []):\n",
      "c:\\Users\\ibrao\\AppData\\Local\\pypoetry\\Cache\\virtualenvs\\nlp1-rattrapage-7qUmAFjS-py3.10\\lib\\site-packages\\catalogue\\__init__.py:135: DeprecationWarning: SelectableGroups dict interface is deprecated. Use select.\n",
      "  for entry_point in AVAILABLE_ENTRY_POINTS.get(self.entry_point_namespace, []):\n",
      "c:\\Users\\ibrao\\AppData\\Local\\pypoetry\\Cache\\virtualenvs\\nlp1-rattrapage-7qUmAFjS-py3.10\\lib\\site-packages\\catalogue\\__init__.py:135: DeprecationWarning: SelectableGroups dict interface is deprecated. Use select.\n",
      "  for entry_point in AVAILABLE_ENTRY_POINTS.get(self.entry_point_namespace, []):\n",
      "c:\\Users\\ibrao\\AppData\\Local\\pypoetry\\Cache\\virtualenvs\\nlp1-rattrapage-7qUmAFjS-py3.10\\lib\\site-packages\\catalogue\\__init__.py:135: DeprecationWarning: SelectableGroups dict interface is deprecated. Use select.\n",
      "  for entry_point in AVAILABLE_ENTRY_POINTS.get(self.entry_point_namespace, []):\n",
      "c:\\Users\\ibrao\\AppData\\Local\\pypoetry\\Cache\\virtualenvs\\nlp1-rattrapage-7qUmAFjS-py3.10\\lib\\site-packages\\catalogue\\__init__.py:135: DeprecationWarning: SelectableGroups dict interface is deprecated. Use select.\n",
      "  for entry_point in AVAILABLE_ENTRY_POINTS.get(self.entry_point_namespace, []):\n",
      "c:\\Users\\ibrao\\AppData\\Local\\pypoetry\\Cache\\virtualenvs\\nlp1-rattrapage-7qUmAFjS-py3.10\\lib\\site-packages\\catalogue\\__init__.py:135: DeprecationWarning: SelectableGroups dict interface is deprecated. Use select.\n",
      "  for entry_point in AVAILABLE_ENTRY_POINTS.get(self.entry_point_namespace, []):\n",
      "c:\\Users\\ibrao\\AppData\\Local\\pypoetry\\Cache\\virtualenvs\\nlp1-rattrapage-7qUmAFjS-py3.10\\lib\\site-packages\\catalogue\\__init__.py:135: DeprecationWarning: SelectableGroups dict interface is deprecated. Use select.\n",
      "  for entry_point in AVAILABLE_ENTRY_POINTS.get(self.entry_point_namespace, []):\n",
      "c:\\Users\\ibrao\\AppData\\Local\\pypoetry\\Cache\\virtualenvs\\nlp1-rattrapage-7qUmAFjS-py3.10\\lib\\site-packages\\catalogue\\__init__.py:135: DeprecationWarning: SelectableGroups dict interface is deprecated. Use select.\n",
      "  for entry_point in AVAILABLE_ENTRY_POINTS.get(self.entry_point_namespace, []):\n",
      "c:\\Users\\ibrao\\AppData\\Local\\pypoetry\\Cache\\virtualenvs\\nlp1-rattrapage-7qUmAFjS-py3.10\\lib\\site-packages\\catalogue\\__init__.py:135: DeprecationWarning: SelectableGroups dict interface is deprecated. Use select.\n",
      "  for entry_point in AVAILABLE_ENTRY_POINTS.get(self.entry_point_namespace, []):\n",
      "c:\\Users\\ibrao\\AppData\\Local\\pypoetry\\Cache\\virtualenvs\\nlp1-rattrapage-7qUmAFjS-py3.10\\lib\\site-packages\\catalogue\\__init__.py:135: DeprecationWarning: SelectableGroups dict interface is deprecated. Use select.\n",
      "  for entry_point in AVAILABLE_ENTRY_POINTS.get(self.entry_point_namespace, []):\n",
      "c:\\Users\\ibrao\\AppData\\Local\\pypoetry\\Cache\\virtualenvs\\nlp1-rattrapage-7qUmAFjS-py3.10\\lib\\site-packages\\catalogue\\__init__.py:123: DeprecationWarning: SelectableGroups dict interface is deprecated. Use select.\n",
      "  for entry_point in AVAILABLE_ENTRY_POINTS.get(self.entry_point_namespace, []):\n",
      "c:\\Users\\ibrao\\AppData\\Local\\pypoetry\\Cache\\virtualenvs\\nlp1-rattrapage-7qUmAFjS-py3.10\\lib\\site-packages\\catalogue\\__init__.py:123: DeprecationWarning: SelectableGroups dict interface is deprecated. Use select.\n",
      "  for entry_point in AVAILABLE_ENTRY_POINTS.get(self.entry_point_namespace, []):\n",
      "c:\\Users\\ibrao\\AppData\\Local\\pypoetry\\Cache\\virtualenvs\\nlp1-rattrapage-7qUmAFjS-py3.10\\lib\\site-packages\\catalogue\\__init__.py:123: DeprecationWarning: SelectableGroups dict interface is deprecated. Use select.\n",
      "  for entry_point in AVAILABLE_ENTRY_POINTS.get(self.entry_point_namespace, []):\n",
      "c:\\Users\\ibrao\\AppData\\Local\\pypoetry\\Cache\\virtualenvs\\nlp1-rattrapage-7qUmAFjS-py3.10\\lib\\site-packages\\catalogue\\__init__.py:123: DeprecationWarning: SelectableGroups dict interface is deprecated. Use select.\n",
      "  for entry_point in AVAILABLE_ENTRY_POINTS.get(self.entry_point_namespace, []):\n",
      "c:\\Users\\ibrao\\AppData\\Local\\pypoetry\\Cache\\virtualenvs\\nlp1-rattrapage-7qUmAFjS-py3.10\\lib\\site-packages\\catalogue\\__init__.py:123: DeprecationWarning: SelectableGroups dict interface is deprecated. Use select.\n",
      "  for entry_point in AVAILABLE_ENTRY_POINTS.get(self.entry_point_namespace, []):\n",
      "c:\\Users\\ibrao\\AppData\\Local\\pypoetry\\Cache\\virtualenvs\\nlp1-rattrapage-7qUmAFjS-py3.10\\lib\\site-packages\\catalogue\\__init__.py:123: DeprecationWarning: SelectableGroups dict interface is deprecated. Use select.\n",
      "  for entry_point in AVAILABLE_ENTRY_POINTS.get(self.entry_point_namespace, []):\n",
      "c:\\Users\\ibrao\\AppData\\Local\\pypoetry\\Cache\\virtualenvs\\nlp1-rattrapage-7qUmAFjS-py3.10\\lib\\site-packages\\catalogue\\__init__.py:123: DeprecationWarning: SelectableGroups dict interface is deprecated. Use select.\n",
      "  for entry_point in AVAILABLE_ENTRY_POINTS.get(self.entry_point_namespace, []):\n",
      "c:\\Users\\ibrao\\AppData\\Local\\pypoetry\\Cache\\virtualenvs\\nlp1-rattrapage-7qUmAFjS-py3.10\\lib\\site-packages\\catalogue\\__init__.py:123: DeprecationWarning: SelectableGroups dict interface is deprecated. Use select.\n",
      "  for entry_point in AVAILABLE_ENTRY_POINTS.get(self.entry_point_namespace, []):\n",
      "c:\\Users\\ibrao\\AppData\\Local\\pypoetry\\Cache\\virtualenvs\\nlp1-rattrapage-7qUmAFjS-py3.10\\lib\\site-packages\\catalogue\\__init__.py:123: DeprecationWarning: SelectableGroups dict interface is deprecated. Use select.\n",
      "  for entry_point in AVAILABLE_ENTRY_POINTS.get(self.entry_point_namespace, []):\n",
      "c:\\Users\\ibrao\\AppData\\Local\\pypoetry\\Cache\\virtualenvs\\nlp1-rattrapage-7qUmAFjS-py3.10\\lib\\site-packages\\catalogue\\__init__.py:123: DeprecationWarning: SelectableGroups dict interface is deprecated. Use select.\n",
      "  for entry_point in AVAILABLE_ENTRY_POINTS.get(self.entry_point_namespace, []):\n",
      "c:\\Users\\ibrao\\AppData\\Local\\pypoetry\\Cache\\virtualenvs\\nlp1-rattrapage-7qUmAFjS-py3.10\\lib\\site-packages\\catalogue\\__init__.py:123: DeprecationWarning: SelectableGroups dict interface is deprecated. Use select.\n",
      "  for entry_point in AVAILABLE_ENTRY_POINTS.get(self.entry_point_namespace, []):\n",
      "c:\\Users\\ibrao\\AppData\\Local\\pypoetry\\Cache\\virtualenvs\\nlp1-rattrapage-7qUmAFjS-py3.10\\lib\\site-packages\\catalogue\\__init__.py:123: DeprecationWarning: SelectableGroups dict interface is deprecated. Use select.\n",
      "  for entry_point in AVAILABLE_ENTRY_POINTS.get(self.entry_point_namespace, []):\n",
      "c:\\Users\\ibrao\\AppData\\Local\\pypoetry\\Cache\\virtualenvs\\nlp1-rattrapage-7qUmAFjS-py3.10\\lib\\site-packages\\catalogue\\__init__.py:123: DeprecationWarning: SelectableGroups dict interface is deprecated. Use select.\n",
      "  for entry_point in AVAILABLE_ENTRY_POINTS.get(self.entry_point_namespace, []):\n",
      "c:\\Users\\ibrao\\AppData\\Local\\pypoetry\\Cache\\virtualenvs\\nlp1-rattrapage-7qUmAFjS-py3.10\\lib\\site-packages\\catalogue\\__init__.py:123: DeprecationWarning: SelectableGroups dict interface is deprecated. Use select.\n",
      "  for entry_point in AVAILABLE_ENTRY_POINTS.get(self.entry_point_namespace, []):\n",
      "c:\\Users\\ibrao\\AppData\\Local\\pypoetry\\Cache\\virtualenvs\\nlp1-rattrapage-7qUmAFjS-py3.10\\lib\\site-packages\\catalogue\\__init__.py:123: DeprecationWarning: SelectableGroups dict interface is deprecated. Use select.\n",
      "  for entry_point in AVAILABLE_ENTRY_POINTS.get(self.entry_point_namespace, []):\n",
      "c:\\Users\\ibrao\\AppData\\Local\\pypoetry\\Cache\\virtualenvs\\nlp1-rattrapage-7qUmAFjS-py3.10\\lib\\site-packages\\catalogue\\__init__.py:123: DeprecationWarning: SelectableGroups dict interface is deprecated. Use select.\n",
      "  for entry_point in AVAILABLE_ENTRY_POINTS.get(self.entry_point_namespace, []):\n",
      "c:\\Users\\ibrao\\AppData\\Local\\pypoetry\\Cache\\virtualenvs\\nlp1-rattrapage-7qUmAFjS-py3.10\\lib\\site-packages\\catalogue\\__init__.py:123: DeprecationWarning: SelectableGroups dict interface is deprecated. Use select.\n",
      "  for entry_point in AVAILABLE_ENTRY_POINTS.get(self.entry_point_namespace, []):\n",
      "c:\\Users\\ibrao\\AppData\\Local\\pypoetry\\Cache\\virtualenvs\\nlp1-rattrapage-7qUmAFjS-py3.10\\lib\\site-packages\\catalogue\\__init__.py:123: DeprecationWarning: SelectableGroups dict interface is deprecated. Use select.\n",
      "  for entry_point in AVAILABLE_ENTRY_POINTS.get(self.entry_point_namespace, []):\n",
      "c:\\Users\\ibrao\\AppData\\Local\\pypoetry\\Cache\\virtualenvs\\nlp1-rattrapage-7qUmAFjS-py3.10\\lib\\site-packages\\catalogue\\__init__.py:123: DeprecationWarning: SelectableGroups dict interface is deprecated. Use select.\n",
      "  for entry_point in AVAILABLE_ENTRY_POINTS.get(self.entry_point_namespace, []):\n",
      "c:\\Users\\ibrao\\AppData\\Local\\pypoetry\\Cache\\virtualenvs\\nlp1-rattrapage-7qUmAFjS-py3.10\\lib\\site-packages\\catalogue\\__init__.py:123: DeprecationWarning: SelectableGroups dict interface is deprecated. Use select.\n",
      "  for entry_point in AVAILABLE_ENTRY_POINTS.get(self.entry_point_namespace, []):\n",
      "c:\\Users\\ibrao\\AppData\\Local\\pypoetry\\Cache\\virtualenvs\\nlp1-rattrapage-7qUmAFjS-py3.10\\lib\\site-packages\\catalogue\\__init__.py:123: DeprecationWarning: SelectableGroups dict interface is deprecated. Use select.\n",
      "  for entry_point in AVAILABLE_ENTRY_POINTS.get(self.entry_point_namespace, []):\n",
      "c:\\Users\\ibrao\\AppData\\Local\\pypoetry\\Cache\\virtualenvs\\nlp1-rattrapage-7qUmAFjS-py3.10\\lib\\site-packages\\catalogue\\__init__.py:123: DeprecationWarning: SelectableGroups dict interface is deprecated. Use select.\n",
      "  for entry_point in AVAILABLE_ENTRY_POINTS.get(self.entry_point_namespace, []):\n",
      "c:\\Users\\ibrao\\AppData\\Local\\pypoetry\\Cache\\virtualenvs\\nlp1-rattrapage-7qUmAFjS-py3.10\\lib\\site-packages\\catalogue\\__init__.py:123: DeprecationWarning: SelectableGroups dict interface is deprecated. Use select.\n",
      "  for entry_point in AVAILABLE_ENTRY_POINTS.get(self.entry_point_namespace, []):\n",
      "c:\\Users\\ibrao\\AppData\\Local\\pypoetry\\Cache\\virtualenvs\\nlp1-rattrapage-7qUmAFjS-py3.10\\lib\\site-packages\\catalogue\\__init__.py:123: DeprecationWarning: SelectableGroups dict interface is deprecated. Use select.\n",
      "  for entry_point in AVAILABLE_ENTRY_POINTS.get(self.entry_point_namespace, []):\n",
      "c:\\Users\\ibrao\\AppData\\Local\\pypoetry\\Cache\\virtualenvs\\nlp1-rattrapage-7qUmAFjS-py3.10\\lib\\site-packages\\catalogue\\__init__.py:123: DeprecationWarning: SelectableGroups dict interface is deprecated. Use select.\n",
      "  for entry_point in AVAILABLE_ENTRY_POINTS.get(self.entry_point_namespace, []):\n",
      "c:\\Users\\ibrao\\AppData\\Local\\pypoetry\\Cache\\virtualenvs\\nlp1-rattrapage-7qUmAFjS-py3.10\\lib\\site-packages\\catalogue\\__init__.py:123: DeprecationWarning: SelectableGroups dict interface is deprecated. Use select.\n",
      "  for entry_point in AVAILABLE_ENTRY_POINTS.get(self.entry_point_namespace, []):\n",
      "c:\\Users\\ibrao\\AppData\\Local\\pypoetry\\Cache\\virtualenvs\\nlp1-rattrapage-7qUmAFjS-py3.10\\lib\\site-packages\\catalogue\\__init__.py:123: DeprecationWarning: SelectableGroups dict interface is deprecated. Use select.\n",
      "  for entry_point in AVAILABLE_ENTRY_POINTS.get(self.entry_point_namespace, []):\n",
      "c:\\Users\\ibrao\\AppData\\Local\\pypoetry\\Cache\\virtualenvs\\nlp1-rattrapage-7qUmAFjS-py3.10\\lib\\site-packages\\catalogue\\__init__.py:123: DeprecationWarning: SelectableGroups dict interface is deprecated. Use select.\n",
      "  for entry_point in AVAILABLE_ENTRY_POINTS.get(self.entry_point_namespace, []):\n",
      "c:\\Users\\ibrao\\AppData\\Local\\pypoetry\\Cache\\virtualenvs\\nlp1-rattrapage-7qUmAFjS-py3.10\\lib\\site-packages\\catalogue\\__init__.py:123: DeprecationWarning: SelectableGroups dict interface is deprecated. Use select.\n",
      "  for entry_point in AVAILABLE_ENTRY_POINTS.get(self.entry_point_namespace, []):\n",
      "c:\\Users\\ibrao\\AppData\\Local\\pypoetry\\Cache\\virtualenvs\\nlp1-rattrapage-7qUmAFjS-py3.10\\lib\\site-packages\\catalogue\\__init__.py:123: DeprecationWarning: SelectableGroups dict interface is deprecated. Use select.\n",
      "  for entry_point in AVAILABLE_ENTRY_POINTS.get(self.entry_point_namespace, []):\n",
      "c:\\Users\\ibrao\\AppData\\Local\\pypoetry\\Cache\\virtualenvs\\nlp1-rattrapage-7qUmAFjS-py3.10\\lib\\site-packages\\catalogue\\__init__.py:123: DeprecationWarning: SelectableGroups dict interface is deprecated. Use select.\n",
      "  for entry_point in AVAILABLE_ENTRY_POINTS.get(self.entry_point_namespace, []):\n",
      "c:\\Users\\ibrao\\AppData\\Local\\pypoetry\\Cache\\virtualenvs\\nlp1-rattrapage-7qUmAFjS-py3.10\\lib\\site-packages\\catalogue\\__init__.py:123: DeprecationWarning: SelectableGroups dict interface is deprecated. Use select.\n",
      "  for entry_point in AVAILABLE_ENTRY_POINTS.get(self.entry_point_namespace, []):\n",
      "c:\\Users\\ibrao\\AppData\\Local\\pypoetry\\Cache\\virtualenvs\\nlp1-rattrapage-7qUmAFjS-py3.10\\lib\\site-packages\\catalogue\\__init__.py:123: DeprecationWarning: SelectableGroups dict interface is deprecated. Use select.\n",
      "  for entry_point in AVAILABLE_ENTRY_POINTS.get(self.entry_point_namespace, []):\n",
      "c:\\Users\\ibrao\\AppData\\Local\\pypoetry\\Cache\\virtualenvs\\nlp1-rattrapage-7qUmAFjS-py3.10\\lib\\site-packages\\catalogue\\__init__.py:123: DeprecationWarning: SelectableGroups dict interface is deprecated. Use select.\n",
      "  for entry_point in AVAILABLE_ENTRY_POINTS.get(self.entry_point_namespace, []):\n",
      "c:\\Users\\ibrao\\AppData\\Local\\pypoetry\\Cache\\virtualenvs\\nlp1-rattrapage-7qUmAFjS-py3.10\\lib\\site-packages\\catalogue\\__init__.py:123: DeprecationWarning: SelectableGroups dict interface is deprecated. Use select.\n",
      "  for entry_point in AVAILABLE_ENTRY_POINTS.get(self.entry_point_namespace, []):\n",
      "c:\\Users\\ibrao\\AppData\\Local\\pypoetry\\Cache\\virtualenvs\\nlp1-rattrapage-7qUmAFjS-py3.10\\lib\\site-packages\\catalogue\\__init__.py:123: DeprecationWarning: SelectableGroups dict interface is deprecated. Use select.\n",
      "  for entry_point in AVAILABLE_ENTRY_POINTS.get(self.entry_point_namespace, []):\n",
      "c:\\Users\\ibrao\\AppData\\Local\\pypoetry\\Cache\\virtualenvs\\nlp1-rattrapage-7qUmAFjS-py3.10\\lib\\site-packages\\catalogue\\__init__.py:123: DeprecationWarning: SelectableGroups dict interface is deprecated. Use select.\n",
      "  for entry_point in AVAILABLE_ENTRY_POINTS.get(self.entry_point_namespace, []):\n",
      "c:\\Users\\ibrao\\AppData\\Local\\pypoetry\\Cache\\virtualenvs\\nlp1-rattrapage-7qUmAFjS-py3.10\\lib\\site-packages\\catalogue\\__init__.py:123: DeprecationWarning: SelectableGroups dict interface is deprecated. Use select.\n",
      "  for entry_point in AVAILABLE_ENTRY_POINTS.get(self.entry_point_namespace, []):\n",
      "c:\\Users\\ibrao\\AppData\\Local\\pypoetry\\Cache\\virtualenvs\\nlp1-rattrapage-7qUmAFjS-py3.10\\lib\\site-packages\\catalogue\\__init__.py:123: DeprecationWarning: SelectableGroups dict interface is deprecated. Use select.\n",
      "  for entry_point in AVAILABLE_ENTRY_POINTS.get(self.entry_point_namespace, []):\n",
      "c:\\Users\\ibrao\\AppData\\Local\\pypoetry\\Cache\\virtualenvs\\nlp1-rattrapage-7qUmAFjS-py3.10\\lib\\site-packages\\catalogue\\__init__.py:123: DeprecationWarning: SelectableGroups dict interface is deprecated. Use select.\n",
      "  for entry_point in AVAILABLE_ENTRY_POINTS.get(self.entry_point_namespace, []):\n",
      "c:\\Users\\ibrao\\AppData\\Local\\pypoetry\\Cache\\virtualenvs\\nlp1-rattrapage-7qUmAFjS-py3.10\\lib\\site-packages\\catalogue\\__init__.py:123: DeprecationWarning: SelectableGroups dict interface is deprecated. Use select.\n",
      "  for entry_point in AVAILABLE_ENTRY_POINTS.get(self.entry_point_namespace, []):\n",
      "c:\\Users\\ibrao\\AppData\\Local\\pypoetry\\Cache\\virtualenvs\\nlp1-rattrapage-7qUmAFjS-py3.10\\lib\\site-packages\\catalogue\\__init__.py:123: DeprecationWarning: SelectableGroups dict interface is deprecated. Use select.\n",
      "  for entry_point in AVAILABLE_ENTRY_POINTS.get(self.entry_point_namespace, []):\n",
      "c:\\Users\\ibrao\\AppData\\Local\\pypoetry\\Cache\\virtualenvs\\nlp1-rattrapage-7qUmAFjS-py3.10\\lib\\site-packages\\catalogue\\__init__.py:123: DeprecationWarning: SelectableGroups dict interface is deprecated. Use select.\n",
      "  for entry_point in AVAILABLE_ENTRY_POINTS.get(self.entry_point_namespace, []):\n",
      "c:\\Users\\ibrao\\AppData\\Local\\pypoetry\\Cache\\virtualenvs\\nlp1-rattrapage-7qUmAFjS-py3.10\\lib\\site-packages\\catalogue\\__init__.py:123: DeprecationWarning: SelectableGroups dict interface is deprecated. Use select.\n",
      "  for entry_point in AVAILABLE_ENTRY_POINTS.get(self.entry_point_namespace, []):\n",
      "c:\\Users\\ibrao\\AppData\\Local\\pypoetry\\Cache\\virtualenvs\\nlp1-rattrapage-7qUmAFjS-py3.10\\lib\\site-packages\\catalogue\\__init__.py:123: DeprecationWarning: SelectableGroups dict interface is deprecated. Use select.\n",
      "  for entry_point in AVAILABLE_ENTRY_POINTS.get(self.entry_point_namespace, []):\n",
      "c:\\Users\\ibrao\\AppData\\Local\\pypoetry\\Cache\\virtualenvs\\nlp1-rattrapage-7qUmAFjS-py3.10\\lib\\site-packages\\catalogue\\__init__.py:123: DeprecationWarning: SelectableGroups dict interface is deprecated. Use select.\n",
      "  for entry_point in AVAILABLE_ENTRY_POINTS.get(self.entry_point_namespace, []):\n",
      "c:\\Users\\ibrao\\AppData\\Local\\pypoetry\\Cache\\virtualenvs\\nlp1-rattrapage-7qUmAFjS-py3.10\\lib\\site-packages\\catalogue\\__init__.py:123: DeprecationWarning: SelectableGroups dict interface is deprecated. Use select.\n",
      "  for entry_point in AVAILABLE_ENTRY_POINTS.get(self.entry_point_namespace, []):\n",
      "c:\\Users\\ibrao\\AppData\\Local\\pypoetry\\Cache\\virtualenvs\\nlp1-rattrapage-7qUmAFjS-py3.10\\lib\\site-packages\\catalogue\\__init__.py:123: DeprecationWarning: SelectableGroups dict interface is deprecated. Use select.\n",
      "  for entry_point in AVAILABLE_ENTRY_POINTS.get(self.entry_point_namespace, []):\n",
      "c:\\Users\\ibrao\\AppData\\Local\\pypoetry\\Cache\\virtualenvs\\nlp1-rattrapage-7qUmAFjS-py3.10\\lib\\site-packages\\catalogue\\__init__.py:123: DeprecationWarning: SelectableGroups dict interface is deprecated. Use select.\n",
      "  for entry_point in AVAILABLE_ENTRY_POINTS.get(self.entry_point_namespace, []):\n",
      "c:\\Users\\ibrao\\AppData\\Local\\pypoetry\\Cache\\virtualenvs\\nlp1-rattrapage-7qUmAFjS-py3.10\\lib\\site-packages\\catalogue\\__init__.py:123: DeprecationWarning: SelectableGroups dict interface is deprecated. Use select.\n",
      "  for entry_point in AVAILABLE_ENTRY_POINTS.get(self.entry_point_namespace, []):\n",
      "c:\\Users\\ibrao\\AppData\\Local\\pypoetry\\Cache\\virtualenvs\\nlp1-rattrapage-7qUmAFjS-py3.10\\lib\\site-packages\\catalogue\\__init__.py:123: DeprecationWarning: SelectableGroups dict interface is deprecated. Use select.\n",
      "  for entry_point in AVAILABLE_ENTRY_POINTS.get(self.entry_point_namespace, []):\n",
      "c:\\Users\\ibrao\\AppData\\Local\\pypoetry\\Cache\\virtualenvs\\nlp1-rattrapage-7qUmAFjS-py3.10\\lib\\site-packages\\catalogue\\__init__.py:123: DeprecationWarning: SelectableGroups dict interface is deprecated. Use select.\n",
      "  for entry_point in AVAILABLE_ENTRY_POINTS.get(self.entry_point_namespace, []):\n",
      "c:\\Users\\ibrao\\AppData\\Local\\pypoetry\\Cache\\virtualenvs\\nlp1-rattrapage-7qUmAFjS-py3.10\\lib\\site-packages\\catalogue\\__init__.py:123: DeprecationWarning: SelectableGroups dict interface is deprecated. Use select.\n",
      "  for entry_point in AVAILABLE_ENTRY_POINTS.get(self.entry_point_namespace, []):\n",
      "c:\\Users\\ibrao\\AppData\\Local\\pypoetry\\Cache\\virtualenvs\\nlp1-rattrapage-7qUmAFjS-py3.10\\lib\\site-packages\\catalogue\\__init__.py:123: DeprecationWarning: SelectableGroups dict interface is deprecated. Use select.\n",
      "  for entry_point in AVAILABLE_ENTRY_POINTS.get(self.entry_point_namespace, []):\n",
      "c:\\Users\\ibrao\\AppData\\Local\\pypoetry\\Cache\\virtualenvs\\nlp1-rattrapage-7qUmAFjS-py3.10\\lib\\site-packages\\catalogue\\__init__.py:123: DeprecationWarning: SelectableGroups dict interface is deprecated. Use select.\n",
      "  for entry_point in AVAILABLE_ENTRY_POINTS.get(self.entry_point_namespace, []):\n",
      "c:\\Users\\ibrao\\AppData\\Local\\pypoetry\\Cache\\virtualenvs\\nlp1-rattrapage-7qUmAFjS-py3.10\\lib\\site-packages\\catalogue\\__init__.py:123: DeprecationWarning: SelectableGroups dict interface is deprecated. Use select.\n",
      "  for entry_point in AVAILABLE_ENTRY_POINTS.get(self.entry_point_namespace, []):\n",
      "c:\\Users\\ibrao\\AppData\\Local\\pypoetry\\Cache\\virtualenvs\\nlp1-rattrapage-7qUmAFjS-py3.10\\lib\\site-packages\\catalogue\\__init__.py:123: DeprecationWarning: SelectableGroups dict interface is deprecated. Use select.\n",
      "  for entry_point in AVAILABLE_ENTRY_POINTS.get(self.entry_point_namespace, []):\n",
      "c:\\Users\\ibrao\\AppData\\Local\\pypoetry\\Cache\\virtualenvs\\nlp1-rattrapage-7qUmAFjS-py3.10\\lib\\site-packages\\catalogue\\__init__.py:123: DeprecationWarning: SelectableGroups dict interface is deprecated. Use select.\n",
      "  for entry_point in AVAILABLE_ENTRY_POINTS.get(self.entry_point_namespace, []):\n",
      "c:\\Users\\ibrao\\AppData\\Local\\pypoetry\\Cache\\virtualenvs\\nlp1-rattrapage-7qUmAFjS-py3.10\\lib\\site-packages\\catalogue\\__init__.py:123: DeprecationWarning: SelectableGroups dict interface is deprecated. Use select.\n",
      "  for entry_point in AVAILABLE_ENTRY_POINTS.get(self.entry_point_namespace, []):\n",
      "c:\\Users\\ibrao\\AppData\\Local\\pypoetry\\Cache\\virtualenvs\\nlp1-rattrapage-7qUmAFjS-py3.10\\lib\\site-packages\\catalogue\\__init__.py:123: DeprecationWarning: SelectableGroups dict interface is deprecated. Use select.\n",
      "  for entry_point in AVAILABLE_ENTRY_POINTS.get(self.entry_point_namespace, []):\n",
      "c:\\Users\\ibrao\\AppData\\Local\\pypoetry\\Cache\\virtualenvs\\nlp1-rattrapage-7qUmAFjS-py3.10\\lib\\site-packages\\catalogue\\__init__.py:123: DeprecationWarning: SelectableGroups dict interface is deprecated. Use select.\n",
      "  for entry_point in AVAILABLE_ENTRY_POINTS.get(self.entry_point_namespace, []):\n",
      "c:\\Users\\ibrao\\AppData\\Local\\pypoetry\\Cache\\virtualenvs\\nlp1-rattrapage-7qUmAFjS-py3.10\\lib\\site-packages\\catalogue\\__init__.py:123: DeprecationWarning: SelectableGroups dict interface is deprecated. Use select.\n",
      "  for entry_point in AVAILABLE_ENTRY_POINTS.get(self.entry_point_namespace, []):\n",
      "c:\\Users\\ibrao\\AppData\\Local\\pypoetry\\Cache\\virtualenvs\\nlp1-rattrapage-7qUmAFjS-py3.10\\lib\\site-packages\\catalogue\\__init__.py:123: DeprecationWarning: SelectableGroups dict interface is deprecated. Use select.\n",
      "  for entry_point in AVAILABLE_ENTRY_POINTS.get(self.entry_point_namespace, []):\n",
      "c:\\Users\\ibrao\\AppData\\Local\\pypoetry\\Cache\\virtualenvs\\nlp1-rattrapage-7qUmAFjS-py3.10\\lib\\site-packages\\catalogue\\__init__.py:123: DeprecationWarning: SelectableGroups dict interface is deprecated. Use select.\n",
      "  for entry_point in AVAILABLE_ENTRY_POINTS.get(self.entry_point_namespace, []):\n",
      "c:\\Users\\ibrao\\AppData\\Local\\pypoetry\\Cache\\virtualenvs\\nlp1-rattrapage-7qUmAFjS-py3.10\\lib\\site-packages\\catalogue\\__init__.py:123: DeprecationWarning: SelectableGroups dict interface is deprecated. Use select.\n",
      "  for entry_point in AVAILABLE_ENTRY_POINTS.get(self.entry_point_namespace, []):\n",
      "c:\\Users\\ibrao\\AppData\\Local\\pypoetry\\Cache\\virtualenvs\\nlp1-rattrapage-7qUmAFjS-py3.10\\lib\\site-packages\\catalogue\\__init__.py:123: DeprecationWarning: SelectableGroups dict interface is deprecated. Use select.\n",
      "  for entry_point in AVAILABLE_ENTRY_POINTS.get(self.entry_point_namespace, []):\n",
      "c:\\Users\\ibrao\\AppData\\Local\\pypoetry\\Cache\\virtualenvs\\nlp1-rattrapage-7qUmAFjS-py3.10\\lib\\site-packages\\catalogue\\__init__.py:123: DeprecationWarning: SelectableGroups dict interface is deprecated. Use select.\n",
      "  for entry_point in AVAILABLE_ENTRY_POINTS.get(self.entry_point_namespace, []):\n",
      "c:\\Users\\ibrao\\AppData\\Local\\pypoetry\\Cache\\virtualenvs\\nlp1-rattrapage-7qUmAFjS-py3.10\\lib\\site-packages\\catalogue\\__init__.py:123: DeprecationWarning: SelectableGroups dict interface is deprecated. Use select.\n",
      "  for entry_point in AVAILABLE_ENTRY_POINTS.get(self.entry_point_namespace, []):\n",
      "c:\\Users\\ibrao\\AppData\\Local\\pypoetry\\Cache\\virtualenvs\\nlp1-rattrapage-7qUmAFjS-py3.10\\lib\\site-packages\\catalogue\\__init__.py:123: DeprecationWarning: SelectableGroups dict interface is deprecated. Use select.\n",
      "  for entry_point in AVAILABLE_ENTRY_POINTS.get(self.entry_point_namespace, []):\n",
      "c:\\Users\\ibrao\\AppData\\Local\\pypoetry\\Cache\\virtualenvs\\nlp1-rattrapage-7qUmAFjS-py3.10\\lib\\site-packages\\catalogue\\__init__.py:123: DeprecationWarning: SelectableGroups dict interface is deprecated. Use select.\n",
      "  for entry_point in AVAILABLE_ENTRY_POINTS.get(self.entry_point_namespace, []):\n",
      "c:\\Users\\ibrao\\AppData\\Local\\pypoetry\\Cache\\virtualenvs\\nlp1-rattrapage-7qUmAFjS-py3.10\\lib\\site-packages\\catalogue\\__init__.py:123: DeprecationWarning: SelectableGroups dict interface is deprecated. Use select.\n",
      "  for entry_point in AVAILABLE_ENTRY_POINTS.get(self.entry_point_namespace, []):\n",
      "c:\\Users\\ibrao\\AppData\\Local\\pypoetry\\Cache\\virtualenvs\\nlp1-rattrapage-7qUmAFjS-py3.10\\lib\\site-packages\\catalogue\\__init__.py:123: DeprecationWarning: SelectableGroups dict interface is deprecated. Use select.\n",
      "  for entry_point in AVAILABLE_ENTRY_POINTS.get(self.entry_point_namespace, []):\n",
      "c:\\Users\\ibrao\\AppData\\Local\\pypoetry\\Cache\\virtualenvs\\nlp1-rattrapage-7qUmAFjS-py3.10\\lib\\site-packages\\catalogue\\__init__.py:123: DeprecationWarning: SelectableGroups dict interface is deprecated. Use select.\n",
      "  for entry_point in AVAILABLE_ENTRY_POINTS.get(self.entry_point_namespace, []):\n",
      "c:\\Users\\ibrao\\AppData\\Local\\pypoetry\\Cache\\virtualenvs\\nlp1-rattrapage-7qUmAFjS-py3.10\\lib\\site-packages\\catalogue\\__init__.py:123: DeprecationWarning: SelectableGroups dict interface is deprecated. Use select.\n",
      "  for entry_point in AVAILABLE_ENTRY_POINTS.get(self.entry_point_namespace, []):\n",
      "c:\\Users\\ibrao\\AppData\\Local\\pypoetry\\Cache\\virtualenvs\\nlp1-rattrapage-7qUmAFjS-py3.10\\lib\\site-packages\\catalogue\\__init__.py:123: DeprecationWarning: SelectableGroups dict interface is deprecated. Use select.\n",
      "  for entry_point in AVAILABLE_ENTRY_POINTS.get(self.entry_point_namespace, []):\n",
      "c:\\Users\\ibrao\\AppData\\Local\\pypoetry\\Cache\\virtualenvs\\nlp1-rattrapage-7qUmAFjS-py3.10\\lib\\site-packages\\catalogue\\__init__.py:123: DeprecationWarning: SelectableGroups dict interface is deprecated. Use select.\n",
      "  for entry_point in AVAILABLE_ENTRY_POINTS.get(self.entry_point_namespace, []):\n",
      "c:\\Users\\ibrao\\AppData\\Local\\pypoetry\\Cache\\virtualenvs\\nlp1-rattrapage-7qUmAFjS-py3.10\\lib\\site-packages\\catalogue\\__init__.py:123: DeprecationWarning: SelectableGroups dict interface is deprecated. Use select.\n",
      "  for entry_point in AVAILABLE_ENTRY_POINTS.get(self.entry_point_namespace, []):\n",
      "c:\\Users\\ibrao\\AppData\\Local\\pypoetry\\Cache\\virtualenvs\\nlp1-rattrapage-7qUmAFjS-py3.10\\lib\\site-packages\\catalogue\\__init__.py:123: DeprecationWarning: SelectableGroups dict interface is deprecated. Use select.\n",
      "  for entry_point in AVAILABLE_ENTRY_POINTS.get(self.entry_point_namespace, []):\n",
      "c:\\Users\\ibrao\\AppData\\Local\\pypoetry\\Cache\\virtualenvs\\nlp1-rattrapage-7qUmAFjS-py3.10\\lib\\site-packages\\catalogue\\__init__.py:123: DeprecationWarning: SelectableGroups dict interface is deprecated. Use select.\n",
      "  for entry_point in AVAILABLE_ENTRY_POINTS.get(self.entry_point_namespace, []):\n",
      "c:\\Users\\ibrao\\AppData\\Local\\pypoetry\\Cache\\virtualenvs\\nlp1-rattrapage-7qUmAFjS-py3.10\\lib\\site-packages\\catalogue\\__init__.py:123: DeprecationWarning: SelectableGroups dict interface is deprecated. Use select.\n",
      "  for entry_point in AVAILABLE_ENTRY_POINTS.get(self.entry_point_namespace, []):\n",
      "c:\\Users\\ibrao\\AppData\\Local\\pypoetry\\Cache\\virtualenvs\\nlp1-rattrapage-7qUmAFjS-py3.10\\lib\\site-packages\\catalogue\\__init__.py:123: DeprecationWarning: SelectableGroups dict interface is deprecated. Use select.\n",
      "  for entry_point in AVAILABLE_ENTRY_POINTS.get(self.entry_point_namespace, []):\n",
      "c:\\Users\\ibrao\\AppData\\Local\\pypoetry\\Cache\\virtualenvs\\nlp1-rattrapage-7qUmAFjS-py3.10\\lib\\site-packages\\catalogue\\__init__.py:123: DeprecationWarning: SelectableGroups dict interface is deprecated. Use select.\n",
      "  for entry_point in AVAILABLE_ENTRY_POINTS.get(self.entry_point_namespace, []):\n",
      "c:\\Users\\ibrao\\AppData\\Local\\pypoetry\\Cache\\virtualenvs\\nlp1-rattrapage-7qUmAFjS-py3.10\\lib\\site-packages\\catalogue\\__init__.py:123: DeprecationWarning: SelectableGroups dict interface is deprecated. Use select.\n",
      "  for entry_point in AVAILABLE_ENTRY_POINTS.get(self.entry_point_namespace, []):\n",
      "c:\\Users\\ibrao\\AppData\\Local\\pypoetry\\Cache\\virtualenvs\\nlp1-rattrapage-7qUmAFjS-py3.10\\lib\\site-packages\\catalogue\\__init__.py:123: DeprecationWarning: SelectableGroups dict interface is deprecated. Use select.\n",
      "  for entry_point in AVAILABLE_ENTRY_POINTS.get(self.entry_point_namespace, []):\n",
      "c:\\Users\\ibrao\\AppData\\Local\\pypoetry\\Cache\\virtualenvs\\nlp1-rattrapage-7qUmAFjS-py3.10\\lib\\site-packages\\catalogue\\__init__.py:123: DeprecationWarning: SelectableGroups dict interface is deprecated. Use select.\n",
      "  for entry_point in AVAILABLE_ENTRY_POINTS.get(self.entry_point_namespace, []):\n",
      "c:\\Users\\ibrao\\AppData\\Local\\pypoetry\\Cache\\virtualenvs\\nlp1-rattrapage-7qUmAFjS-py3.10\\lib\\site-packages\\catalogue\\__init__.py:123: DeprecationWarning: SelectableGroups dict interface is deprecated. Use select.\n",
      "  for entry_point in AVAILABLE_ENTRY_POINTS.get(self.entry_point_namespace, []):\n",
      "c:\\Users\\ibrao\\AppData\\Local\\pypoetry\\Cache\\virtualenvs\\nlp1-rattrapage-7qUmAFjS-py3.10\\lib\\site-packages\\catalogue\\__init__.py:123: DeprecationWarning: SelectableGroups dict interface is deprecated. Use select.\n",
      "  for entry_point in AVAILABLE_ENTRY_POINTS.get(self.entry_point_namespace, []):\n",
      "c:\\Users\\ibrao\\AppData\\Local\\pypoetry\\Cache\\virtualenvs\\nlp1-rattrapage-7qUmAFjS-py3.10\\lib\\site-packages\\catalogue\\__init__.py:123: DeprecationWarning: SelectableGroups dict interface is deprecated. Use select.\n",
      "  for entry_point in AVAILABLE_ENTRY_POINTS.get(self.entry_point_namespace, []):\n",
      "c:\\Users\\ibrao\\AppData\\Local\\pypoetry\\Cache\\virtualenvs\\nlp1-rattrapage-7qUmAFjS-py3.10\\lib\\site-packages\\catalogue\\__init__.py:123: DeprecationWarning: SelectableGroups dict interface is deprecated. Use select.\n",
      "  for entry_point in AVAILABLE_ENTRY_POINTS.get(self.entry_point_namespace, []):\n",
      "c:\\Users\\ibrao\\AppData\\Local\\pypoetry\\Cache\\virtualenvs\\nlp1-rattrapage-7qUmAFjS-py3.10\\lib\\site-packages\\catalogue\\__init__.py:123: DeprecationWarning: SelectableGroups dict interface is deprecated. Use select.\n",
      "  for entry_point in AVAILABLE_ENTRY_POINTS.get(self.entry_point_namespace, []):\n",
      "c:\\Users\\ibrao\\AppData\\Local\\pypoetry\\Cache\\virtualenvs\\nlp1-rattrapage-7qUmAFjS-py3.10\\lib\\site-packages\\catalogue\\__init__.py:123: DeprecationWarning: SelectableGroups dict interface is deprecated. Use select.\n",
      "  for entry_point in AVAILABLE_ENTRY_POINTS.get(self.entry_point_namespace, []):\n",
      "c:\\Users\\ibrao\\AppData\\Local\\pypoetry\\Cache\\virtualenvs\\nlp1-rattrapage-7qUmAFjS-py3.10\\lib\\site-packages\\catalogue\\__init__.py:123: DeprecationWarning: SelectableGroups dict interface is deprecated. Use select.\n",
      "  for entry_point in AVAILABLE_ENTRY_POINTS.get(self.entry_point_namespace, []):\n",
      "c:\\Users\\ibrao\\AppData\\Local\\pypoetry\\Cache\\virtualenvs\\nlp1-rattrapage-7qUmAFjS-py3.10\\lib\\site-packages\\catalogue\\__init__.py:123: DeprecationWarning: SelectableGroups dict interface is deprecated. Use select.\n",
      "  for entry_point in AVAILABLE_ENTRY_POINTS.get(self.entry_point_namespace, []):\n",
      "c:\\Users\\ibrao\\AppData\\Local\\pypoetry\\Cache\\virtualenvs\\nlp1-rattrapage-7qUmAFjS-py3.10\\lib\\site-packages\\catalogue\\__init__.py:123: DeprecationWarning: SelectableGroups dict interface is deprecated. Use select.\n",
      "  for entry_point in AVAILABLE_ENTRY_POINTS.get(self.entry_point_namespace, []):\n",
      "c:\\Users\\ibrao\\AppData\\Local\\pypoetry\\Cache\\virtualenvs\\nlp1-rattrapage-7qUmAFjS-py3.10\\lib\\site-packages\\catalogue\\__init__.py:123: DeprecationWarning: SelectableGroups dict interface is deprecated. Use select.\n",
      "  for entry_point in AVAILABLE_ENTRY_POINTS.get(self.entry_point_namespace, []):\n",
      "c:\\Users\\ibrao\\AppData\\Local\\pypoetry\\Cache\\virtualenvs\\nlp1-rattrapage-7qUmAFjS-py3.10\\lib\\site-packages\\catalogue\\__init__.py:123: DeprecationWarning: SelectableGroups dict interface is deprecated. Use select.\n",
      "  for entry_point in AVAILABLE_ENTRY_POINTS.get(self.entry_point_namespace, []):\n",
      "c:\\Users\\ibrao\\AppData\\Local\\pypoetry\\Cache\\virtualenvs\\nlp1-rattrapage-7qUmAFjS-py3.10\\lib\\site-packages\\catalogue\\__init__.py:123: DeprecationWarning: SelectableGroups dict interface is deprecated. Use select.\n",
      "  for entry_point in AVAILABLE_ENTRY_POINTS.get(self.entry_point_namespace, []):\n",
      "c:\\Users\\ibrao\\AppData\\Local\\pypoetry\\Cache\\virtualenvs\\nlp1-rattrapage-7qUmAFjS-py3.10\\lib\\site-packages\\catalogue\\__init__.py:123: DeprecationWarning: SelectableGroups dict interface is deprecated. Use select.\n",
      "  for entry_point in AVAILABLE_ENTRY_POINTS.get(self.entry_point_namespace, []):\n",
      "c:\\Users\\ibrao\\AppData\\Local\\pypoetry\\Cache\\virtualenvs\\nlp1-rattrapage-7qUmAFjS-py3.10\\lib\\site-packages\\catalogue\\__init__.py:123: DeprecationWarning: SelectableGroups dict interface is deprecated. Use select.\n",
      "  for entry_point in AVAILABLE_ENTRY_POINTS.get(self.entry_point_namespace, []):\n",
      "c:\\Users\\ibrao\\AppData\\Local\\pypoetry\\Cache\\virtualenvs\\nlp1-rattrapage-7qUmAFjS-py3.10\\lib\\site-packages\\catalogue\\__init__.py:123: DeprecationWarning: SelectableGroups dict interface is deprecated. Use select.\n",
      "  for entry_point in AVAILABLE_ENTRY_POINTS.get(self.entry_point_namespace, []):\n",
      "c:\\Users\\ibrao\\AppData\\Local\\pypoetry\\Cache\\virtualenvs\\nlp1-rattrapage-7qUmAFjS-py3.10\\lib\\site-packages\\catalogue\\__init__.py:123: DeprecationWarning: SelectableGroups dict interface is deprecated. Use select.\n",
      "  for entry_point in AVAILABLE_ENTRY_POINTS.get(self.entry_point_namespace, []):\n",
      "c:\\Users\\ibrao\\AppData\\Local\\pypoetry\\Cache\\virtualenvs\\nlp1-rattrapage-7qUmAFjS-py3.10\\lib\\site-packages\\catalogue\\__init__.py:123: DeprecationWarning: SelectableGroups dict interface is deprecated. Use select.\n",
      "  for entry_point in AVAILABLE_ENTRY_POINTS.get(self.entry_point_namespace, []):\n",
      "c:\\Users\\ibrao\\AppData\\Local\\pypoetry\\Cache\\virtualenvs\\nlp1-rattrapage-7qUmAFjS-py3.10\\lib\\site-packages\\catalogue\\__init__.py:123: DeprecationWarning: SelectableGroups dict interface is deprecated. Use select.\n",
      "  for entry_point in AVAILABLE_ENTRY_POINTS.get(self.entry_point_namespace, []):\n",
      "c:\\Users\\ibrao\\AppData\\Local\\pypoetry\\Cache\\virtualenvs\\nlp1-rattrapage-7qUmAFjS-py3.10\\lib\\site-packages\\catalogue\\__init__.py:123: DeprecationWarning: SelectableGroups dict interface is deprecated. Use select.\n",
      "  for entry_point in AVAILABLE_ENTRY_POINTS.get(self.entry_point_namespace, []):\n",
      "c:\\Users\\ibrao\\AppData\\Local\\pypoetry\\Cache\\virtualenvs\\nlp1-rattrapage-7qUmAFjS-py3.10\\lib\\site-packages\\catalogue\\__init__.py:123: DeprecationWarning: SelectableGroups dict interface is deprecated. Use select.\n",
      "  for entry_point in AVAILABLE_ENTRY_POINTS.get(self.entry_point_namespace, []):\n",
      "c:\\Users\\ibrao\\AppData\\Local\\pypoetry\\Cache\\virtualenvs\\nlp1-rattrapage-7qUmAFjS-py3.10\\lib\\site-packages\\catalogue\\__init__.py:123: DeprecationWarning: SelectableGroups dict interface is deprecated. Use select.\n",
      "  for entry_point in AVAILABLE_ENTRY_POINTS.get(self.entry_point_namespace, []):\n",
      "c:\\Users\\ibrao\\AppData\\Local\\pypoetry\\Cache\\virtualenvs\\nlp1-rattrapage-7qUmAFjS-py3.10\\lib\\site-packages\\catalogue\\__init__.py:123: DeprecationWarning: SelectableGroups dict interface is deprecated. Use select.\n",
      "  for entry_point in AVAILABLE_ENTRY_POINTS.get(self.entry_point_namespace, []):\n",
      "c:\\Users\\ibrao\\AppData\\Local\\pypoetry\\Cache\\virtualenvs\\nlp1-rattrapage-7qUmAFjS-py3.10\\lib\\site-packages\\catalogue\\__init__.py:123: DeprecationWarning: SelectableGroups dict interface is deprecated. Use select.\n",
      "  for entry_point in AVAILABLE_ENTRY_POINTS.get(self.entry_point_namespace, []):\n",
      "c:\\Users\\ibrao\\AppData\\Local\\pypoetry\\Cache\\virtualenvs\\nlp1-rattrapage-7qUmAFjS-py3.10\\lib\\site-packages\\catalogue\\__init__.py:123: DeprecationWarning: SelectableGroups dict interface is deprecated. Use select.\n",
      "  for entry_point in AVAILABLE_ENTRY_POINTS.get(self.entry_point_namespace, []):\n",
      "c:\\Users\\ibrao\\AppData\\Local\\pypoetry\\Cache\\virtualenvs\\nlp1-rattrapage-7qUmAFjS-py3.10\\lib\\site-packages\\catalogue\\__init__.py:123: DeprecationWarning: SelectableGroups dict interface is deprecated. Use select.\n",
      "  for entry_point in AVAILABLE_ENTRY_POINTS.get(self.entry_point_namespace, []):\n",
      "c:\\Users\\ibrao\\AppData\\Local\\pypoetry\\Cache\\virtualenvs\\nlp1-rattrapage-7qUmAFjS-py3.10\\lib\\site-packages\\catalogue\\__init__.py:123: DeprecationWarning: SelectableGroups dict interface is deprecated. Use select.\n",
      "  for entry_point in AVAILABLE_ENTRY_POINTS.get(self.entry_point_namespace, []):\n",
      "c:\\Users\\ibrao\\AppData\\Local\\pypoetry\\Cache\\virtualenvs\\nlp1-rattrapage-7qUmAFjS-py3.10\\lib\\site-packages\\catalogue\\__init__.py:123: DeprecationWarning: SelectableGroups dict interface is deprecated. Use select.\n",
      "  for entry_point in AVAILABLE_ENTRY_POINTS.get(self.entry_point_namespace, []):\n",
      "c:\\Users\\ibrao\\AppData\\Local\\pypoetry\\Cache\\virtualenvs\\nlp1-rattrapage-7qUmAFjS-py3.10\\lib\\site-packages\\catalogue\\__init__.py:123: DeprecationWarning: SelectableGroups dict interface is deprecated. Use select.\n",
      "  for entry_point in AVAILABLE_ENTRY_POINTS.get(self.entry_point_namespace, []):\n",
      "c:\\Users\\ibrao\\AppData\\Local\\pypoetry\\Cache\\virtualenvs\\nlp1-rattrapage-7qUmAFjS-py3.10\\lib\\site-packages\\catalogue\\__init__.py:123: DeprecationWarning: SelectableGroups dict interface is deprecated. Use select.\n",
      "  for entry_point in AVAILABLE_ENTRY_POINTS.get(self.entry_point_namespace, []):\n",
      "c:\\Users\\ibrao\\AppData\\Local\\pypoetry\\Cache\\virtualenvs\\nlp1-rattrapage-7qUmAFjS-py3.10\\lib\\site-packages\\catalogue\\__init__.py:123: DeprecationWarning: SelectableGroups dict interface is deprecated. Use select.\n",
      "  for entry_point in AVAILABLE_ENTRY_POINTS.get(self.entry_point_namespace, []):\n",
      "c:\\Users\\ibrao\\AppData\\Local\\pypoetry\\Cache\\virtualenvs\\nlp1-rattrapage-7qUmAFjS-py3.10\\lib\\site-packages\\catalogue\\__init__.py:123: DeprecationWarning: SelectableGroups dict interface is deprecated. Use select.\n",
      "  for entry_point in AVAILABLE_ENTRY_POINTS.get(self.entry_point_namespace, []):\n",
      "c:\\Users\\ibrao\\AppData\\Local\\pypoetry\\Cache\\virtualenvs\\nlp1-rattrapage-7qUmAFjS-py3.10\\lib\\site-packages\\catalogue\\__init__.py:123: DeprecationWarning: SelectableGroups dict interface is deprecated. Use select.\n",
      "  for entry_point in AVAILABLE_ENTRY_POINTS.get(self.entry_point_namespace, []):\n",
      "c:\\Users\\ibrao\\AppData\\Local\\pypoetry\\Cache\\virtualenvs\\nlp1-rattrapage-7qUmAFjS-py3.10\\lib\\site-packages\\catalogue\\__init__.py:123: DeprecationWarning: SelectableGroups dict interface is deprecated. Use select.\n",
      "  for entry_point in AVAILABLE_ENTRY_POINTS.get(self.entry_point_namespace, []):\n",
      "c:\\Users\\ibrao\\AppData\\Local\\pypoetry\\Cache\\virtualenvs\\nlp1-rattrapage-7qUmAFjS-py3.10\\lib\\site-packages\\catalogue\\__init__.py:123: DeprecationWarning: SelectableGroups dict interface is deprecated. Use select.\n",
      "  for entry_point in AVAILABLE_ENTRY_POINTS.get(self.entry_point_namespace, []):\n",
      "c:\\Users\\ibrao\\AppData\\Local\\pypoetry\\Cache\\virtualenvs\\nlp1-rattrapage-7qUmAFjS-py3.10\\lib\\site-packages\\catalogue\\__init__.py:123: DeprecationWarning: SelectableGroups dict interface is deprecated. Use select.\n",
      "  for entry_point in AVAILABLE_ENTRY_POINTS.get(self.entry_point_namespace, []):\n",
      "c:\\Users\\ibrao\\AppData\\Local\\pypoetry\\Cache\\virtualenvs\\nlp1-rattrapage-7qUmAFjS-py3.10\\lib\\site-packages\\catalogue\\__init__.py:123: DeprecationWarning: SelectableGroups dict interface is deprecated. Use select.\n",
      "  for entry_point in AVAILABLE_ENTRY_POINTS.get(self.entry_point_namespace, []):\n",
      "c:\\Users\\ibrao\\AppData\\Local\\pypoetry\\Cache\\virtualenvs\\nlp1-rattrapage-7qUmAFjS-py3.10\\lib\\site-packages\\catalogue\\__init__.py:123: DeprecationWarning: SelectableGroups dict interface is deprecated. Use select.\n",
      "  for entry_point in AVAILABLE_ENTRY_POINTS.get(self.entry_point_namespace, []):\n",
      "c:\\Users\\ibrao\\AppData\\Local\\pypoetry\\Cache\\virtualenvs\\nlp1-rattrapage-7qUmAFjS-py3.10\\lib\\site-packages\\catalogue\\__init__.py:123: DeprecationWarning: SelectableGroups dict interface is deprecated. Use select.\n",
      "  for entry_point in AVAILABLE_ENTRY_POINTS.get(self.entry_point_namespace, []):\n",
      "c:\\Users\\ibrao\\AppData\\Local\\pypoetry\\Cache\\virtualenvs\\nlp1-rattrapage-7qUmAFjS-py3.10\\lib\\site-packages\\catalogue\\__init__.py:123: DeprecationWarning: SelectableGroups dict interface is deprecated. Use select.\n",
      "  for entry_point in AVAILABLE_ENTRY_POINTS.get(self.entry_point_namespace, []):\n",
      "c:\\Users\\ibrao\\AppData\\Local\\pypoetry\\Cache\\virtualenvs\\nlp1-rattrapage-7qUmAFjS-py3.10\\lib\\site-packages\\catalogue\\__init__.py:123: DeprecationWarning: SelectableGroups dict interface is deprecated. Use select.\n",
      "  for entry_point in AVAILABLE_ENTRY_POINTS.get(self.entry_point_namespace, []):\n",
      "c:\\Users\\ibrao\\AppData\\Local\\pypoetry\\Cache\\virtualenvs\\nlp1-rattrapage-7qUmAFjS-py3.10\\lib\\site-packages\\catalogue\\__init__.py:123: DeprecationWarning: SelectableGroups dict interface is deprecated. Use select.\n",
      "  for entry_point in AVAILABLE_ENTRY_POINTS.get(self.entry_point_namespace, []):\n",
      "c:\\Users\\ibrao\\AppData\\Local\\pypoetry\\Cache\\virtualenvs\\nlp1-rattrapage-7qUmAFjS-py3.10\\lib\\site-packages\\catalogue\\__init__.py:123: DeprecationWarning: SelectableGroups dict interface is deprecated. Use select.\n",
      "  for entry_point in AVAILABLE_ENTRY_POINTS.get(self.entry_point_namespace, []):\n",
      "c:\\Users\\ibrao\\AppData\\Local\\pypoetry\\Cache\\virtualenvs\\nlp1-rattrapage-7qUmAFjS-py3.10\\lib\\site-packages\\catalogue\\__init__.py:123: DeprecationWarning: SelectableGroups dict interface is deprecated. Use select.\n",
      "  for entry_point in AVAILABLE_ENTRY_POINTS.get(self.entry_point_namespace, []):\n",
      "c:\\Users\\ibrao\\AppData\\Local\\pypoetry\\Cache\\virtualenvs\\nlp1-rattrapage-7qUmAFjS-py3.10\\lib\\site-packages\\catalogue\\__init__.py:123: DeprecationWarning: SelectableGroups dict interface is deprecated. Use select.\n",
      "  for entry_point in AVAILABLE_ENTRY_POINTS.get(self.entry_point_namespace, []):\n",
      "c:\\Users\\ibrao\\AppData\\Local\\pypoetry\\Cache\\virtualenvs\\nlp1-rattrapage-7qUmAFjS-py3.10\\lib\\site-packages\\catalogue\\__init__.py:123: DeprecationWarning: SelectableGroups dict interface is deprecated. Use select.\n",
      "  for entry_point in AVAILABLE_ENTRY_POINTS.get(self.entry_point_namespace, []):\n",
      "c:\\Users\\ibrao\\AppData\\Local\\pypoetry\\Cache\\virtualenvs\\nlp1-rattrapage-7qUmAFjS-py3.10\\lib\\site-packages\\catalogue\\__init__.py:123: DeprecationWarning: SelectableGroups dict interface is deprecated. Use select.\n",
      "  for entry_point in AVAILABLE_ENTRY_POINTS.get(self.entry_point_namespace, []):\n",
      "c:\\Users\\ibrao\\AppData\\Local\\pypoetry\\Cache\\virtualenvs\\nlp1-rattrapage-7qUmAFjS-py3.10\\lib\\site-packages\\catalogue\\__init__.py:123: DeprecationWarning: SelectableGroups dict interface is deprecated. Use select.\n",
      "  for entry_point in AVAILABLE_ENTRY_POINTS.get(self.entry_point_namespace, []):\n",
      "c:\\Users\\ibrao\\AppData\\Local\\pypoetry\\Cache\\virtualenvs\\nlp1-rattrapage-7qUmAFjS-py3.10\\lib\\site-packages\\catalogue\\__init__.py:123: DeprecationWarning: SelectableGroups dict interface is deprecated. Use select.\n",
      "  for entry_point in AVAILABLE_ENTRY_POINTS.get(self.entry_point_namespace, []):\n",
      "c:\\Users\\ibrao\\AppData\\Local\\pypoetry\\Cache\\virtualenvs\\nlp1-rattrapage-7qUmAFjS-py3.10\\lib\\site-packages\\catalogue\\__init__.py:123: DeprecationWarning: SelectableGroups dict interface is deprecated. Use select.\n",
      "  for entry_point in AVAILABLE_ENTRY_POINTS.get(self.entry_point_namespace, []):\n",
      "c:\\Users\\ibrao\\AppData\\Local\\pypoetry\\Cache\\virtualenvs\\nlp1-rattrapage-7qUmAFjS-py3.10\\lib\\site-packages\\catalogue\\__init__.py:123: DeprecationWarning: SelectableGroups dict interface is deprecated. Use select.\n",
      "  for entry_point in AVAILABLE_ENTRY_POINTS.get(self.entry_point_namespace, []):\n",
      "c:\\Users\\ibrao\\AppData\\Local\\pypoetry\\Cache\\virtualenvs\\nlp1-rattrapage-7qUmAFjS-py3.10\\lib\\site-packages\\catalogue\\__init__.py:123: DeprecationWarning: SelectableGroups dict interface is deprecated. Use select.\n",
      "  for entry_point in AVAILABLE_ENTRY_POINTS.get(self.entry_point_namespace, []):\n"
     ]
    },
    {
     "data": {
      "text/plain": [
       "0    [pilote, désaxé, trajectoire, approche, instru...\n",
       "1                                                   []\n",
       "2    [accident, résulte, décision, inapproprié, équ...\n",
       "Name: tokens, dtype: object"
      ]
     },
     "execution_count": 7,
     "metadata": {},
     "output_type": "execute_result"
    }
   ],
   "source": [
    "# Notre modèle spqcy:\n",
    "nlp = fr_core_news_md.load()\n",
    "# Tages à supprimer du text\n",
    "removal= ['ADV','PRON','CCONJ','PUNCT','PART','DET','ADP','SPACE', 'NUM', 'SYM']\n",
    "tokens = []\n",
    "for summary in nlp.pipe(df['Content']):\n",
    "   report_tok = [token.lemma_.lower() for token in summary if token.pos_ not in removal and not token.is_stop and token.is_alpha]\n",
    "   tokens.append(report_tok)\n",
    "\n",
    "df['tokens'] = tokens\n",
    "df['tokens']"
   ]
  },
  {
   "cell_type": "markdown",
   "metadata": {},
   "source": [
    "## 3. Creation du dictionnaire et du corpus\n",
    "\n",
    "### Creation du dictionnary"
   ]
  },
  {
   "cell_type": "code",
   "execution_count": 8,
   "metadata": {},
   "outputs": [
    {
     "name": "stdout",
     "output_type": "stream",
     "text": [
      "{'accident': 0, 'acquérir': 1, 'altitude': 2, 'approche': 3, 'autoroute': 4, 'avion': 5, 'axe': 6, 'baser': 7, 'bord': 8, 'cohérence': 9, 'compte': 10, 'condition': 11, 'conduire': 12, 'confusion': 13, 'contrôle': 14, 'cours': 15, 'difficile': 16, 'débuter': 17, 'décision': 18, 'désaxé': 19, 'erroné': 20, 'extérieur': 21, 'fonder': 22, 'ft': 23, 'gauche': 24, 'gaz': 25, 'guidage': 26, 'illustre': 27, 'imc': 28, 'importance': 29, 'incohérence': 30, 'information': 31, 'instrument': 32, 'interrompre': 33, 'issu': 34, 'maintenir': 35, 'manœuvre': 36, 'marginal': 37, 'perdre': 38, 'phase': 39, 'pilote': 40, 'précis': 41, 'remise': 42, 'rendre': 43, 'référence': 44, 'situer': 45, 'suivre': 46, 'surveillance': 47, 'trajectoire': 48, 'transition': 49, 'visuel': 50, 'vue': 51, 'affranchir': 52, 'alléger': 53, 'amener': 54, 'appréciation': 55, 'azimut': 56, 'barrage': 57, 'burzet': 58, 'charge': 59, 'choix': 60, 'constituer': 61, 'contrôler': 62, 'copilote': 63, 'dernier': 64, 'dicter': 65, 'domaine': 66, 'doute': 67, 'droite': 68, 'dégager': 69, 'euphorie': 70, 'exécuter': 71, 'face': 72, 'faire': 73, 'fonction': 74, 'fumée': 75, 'gabarit': 76, 'hauteur': 77, 'heure': 78, 'inadapter': 79, 'inapproprié': 80, 'laisser': 81, 'largage': 82, 'ligne': 83, 'limite': 84, 'nord': 85, 'nécessiter': 86, 'part': 87, 'partir': 88, 'permettre': 89, 'pilotage': 90, 'place': 91, 'proximité': 92, 'présence': 93, 'relief': 94, 'reprendre': 95, 'réaliser': 96, 'régime': 97, 'résulte': 98, 'saison': 99, 'second': 100, 'site': 101, 'soleil': 102, 'sud': 103, 'temps': 104, 'travail': 105, 'urgence': 106, 'utiliser': 107, 'vallée': 108, 'ville': 109, 'virage': 110, 'vol': 111, 'équipage': 112, 'évolution': 113, 'être': 114}\n"
     ]
    }
   ],
   "source": [
    "dictionary = Dictionary(df['tokens'])\n",
    "# dictionary.filter_extremes(no_below=5, no_above=0.5, keep_n=1000)\n",
    "print(dictionary.token2id)"
   ]
  },
  {
   "cell_type": "markdown",
   "metadata": {},
   "source": [
    "### Création de notre corpus"
   ]
  },
  {
   "cell_type": "code",
   "execution_count": 16,
   "metadata": {},
   "outputs": [],
   "source": [
    "corpus = [dictionary.doc2bow(doc) for doc in df['tokens']]\n",
    "lda_model = LdaMulticore(corpus=corpus, id2word=dictionary, iterations=50, num_topics=3, workers = 4, passes=10)"
   ]
  },
  {
   "cell_type": "markdown",
   "metadata": {},
   "source": [
    "## 4. Création du modèle"
   ]
  },
  {
   "cell_type": "markdown",
   "metadata": {},
   "source": [
    "## Calcul du score de cohérence à l'aide de $C_{umass}$ :"
   ]
  },
  {
   "cell_type": "code",
   "execution_count": 17,
   "metadata": {},
   "outputs": [
    {
     "data": {
      "image/png": "[encoded data removed]",
      "text/plain": [
       "<Figure size 432x288 with 1 Axes>"
      ]
     },
     "metadata": {
      "needs_background": "light"
     },
     "output_type": "display_data"
    }
   ],
   "source": [
    "topics = []\n",
    "score = []\n",
    "for i in range(1,6,1):\n",
    "   lda_model = LdaMulticore(corpus=corpus, id2word=dictionary, iterations=10, num_topics=i, workers = 4, passes=10, random_state=100)\n",
    "   cm = CoherenceModel(model=lda_model, corpus=corpus, dictionary=dictionary, coherence='u_mass')\n",
    "   topics.append(i)\n",
    "   score.append(cm.get_coherence())\n",
    "_=plt.plot(topics, score)\n",
    "_=plt.xlabel('Number of Topics')\n",
    "_=plt.ylabel('Coherence Score')\n",
    "plt.show()"
   ]
  },
  {
   "cell_type": "markdown",
   "metadata": {},
   "source": [
    "## Calculating the coherence score using $C_v$:"
   ]
  },
  {
   "cell_type": "code",
   "execution_count": 18,
   "metadata": {},
   "outputs": [
    {
     "name": "stderr",
     "output_type": "stream",
     "text": [
      "c:\\Users\\ibrao\\AppData\\Local\\pypoetry\\Cache\\virtualenvs\\nlp1-rattrapage-7qUmAFjS-py3.10\\lib\\site-packages\\gensim\\topic_coherence\\direct_confirmation_measure.py:204: RuntimeWarning: divide by zero encountered in double_scalars\n",
      "  m_lr_i = np.log(numerator / denominator)\n",
      "c:\\Users\\ibrao\\AppData\\Local\\pypoetry\\Cache\\virtualenvs\\nlp1-rattrapage-7qUmAFjS-py3.10\\lib\\site-packages\\gensim\\topic_coherence\\indirect_confirmation_measure.py:323: RuntimeWarning: invalid value encountered in double_scalars\n",
      "  return cv1.T.dot(cv2)[0, 0] / (_magnitude(cv1) * _magnitude(cv2))\n"
     ]
    },
    {
     "data": {
      "image/png": "[encoded data removed]",
      "text/plain": [
       "<Figure size 432x288 with 1 Axes>"
      ]
     },
     "metadata": {
      "needs_background": "light"
     },
     "output_type": "display_data"
    }
   ],
   "source": [
    "topics = []\n",
    "score = []\n",
    "for i in range(1,6,1):\n",
    "   lda_model = LdaMulticore(corpus=corpus, id2word=dictionary, iterations=10, num_topics=i, workers = 4, passes=10, random_state=100)\n",
    "   cm = CoherenceModel(model=lda_model, texts = df['tokens'], corpus=corpus, dictionary=dictionary, coherence='c_v')\n",
    "   topics.append(i)\n",
    "   score.append(cm.get_coherence())\n",
    "plt.plot(topics, score)\n",
    "plt.xlabel('Number of Topics')\n",
    "plt.ylabel('Coherence Score')\n",
    "plt.show()"
   ]
  },
  {
   "cell_type": "code",
   "execution_count": 19,
   "metadata": {},
   "outputs": [],
   "source": [
    "lda_model = LdaMulticore(corpus=corpus, id2word=dictionary, iterations=20, num_topics=2, workers = 4, passes=100)"
   ]
  },
  {
   "cell_type": "markdown",
   "metadata": {},
   "source": [
    "## 5. Visualisation of topics"
   ]
  },
  {
   "cell_type": "code",
   "execution_count": 20,
   "metadata": {},
   "outputs": [
    {
     "data": {
      "text/plain": [
       "[(0,\n",
       "  '0.030*\"approche\" + 0.026*\"pilote\" + 0.021*\"vol\" + 0.021*\"dernier\" + 0.021*\"instrument\" + 0.016*\"largage\" + 0.016*\"relief\" + 0.016*\"équipage\" + 0.016*\"avion\" + 0.016*\"accident\"'),\n",
       " (1,\n",
       "  '0.009*\"approche\" + 0.009*\"instrument\" + 0.009*\"extérieur\" + 0.009*\"condition\" + 0.009*\"référence\" + 0.009*\"cours\" + 0.009*\"visuel\" + 0.009*\"incohérence\" + 0.009*\"manœuvre\" + 0.009*\"remise\"')]"
      ]
     },
     "execution_count": 20,
     "metadata": {},
     "output_type": "execute_result"
    }
   ],
   "source": [
    "lda_model.print_topics(-1)"
   ]
  },
  {
   "cell_type": "markdown",
   "metadata": {},
   "source": [
    "Visualisation les sujets et les mots associés à chaque sujet:"
   ]
  },
  {
   "cell_type": "code",
   "execution_count": 14,
   "metadata": {},
   "outputs": [
    {
     "name": "stderr",
     "output_type": "stream",
     "text": [
      "c:\\Users\\ibrao\\AppData\\Local\\pypoetry\\Cache\\virtualenvs\\nlp1-rattrapage-7qUmAFjS-py3.10\\lib\\site-packages\\pyLDAvis\\_prepare.py:247: FutureWarning: In a future version of pandas all arguments of DataFrame.drop except for the argument 'labels' will be keyword-only.\n",
      "  by='saliency', ascending=False).head(R).drop('saliency', 1)\n"
     ]
    }
   ],
   "source": [
    "lda_display = pyLDAvis.gensim_models.prepare(lda_model, corpus, dictionary)\n",
    "# pyLDAvis.display(lda_display)"
   ]
  },
  {
   "cell_type": "code",
   "execution_count": 15,
   "metadata": {},
   "outputs": [],
   "source": [
    "# pyLDAvis.save_html(lda_display, 'index.html')"
   ]
  }
 ],
 "metadata": {
  "kernelspec": {
   "display_name": "Python 3.10.4 ('nlp1-rattrapage-7qUmAFjS-py3.10')",
   "language": "python",
   "name": "python3"
  },
  "language_info": {
   "codemirror_mode": {
    "name": "ipython",
    "version": 3
   },
   "file_extension": ".py",
   "mimetype": "text/x-python",
   "name": "python",
   "nbconvert_exporter": "python",
   "pygments_lexer": "ipython3",
   "version": "3.10.4"
  },
  "orig_nbformat": 4,
  "vscode": {
   "interpreter": {
    "hash": "13a42bfd1ea82090c1d0ce84b92d41f60d31479f04fec49b0098f77dabe61557"
   }
  }
 },
 "nbformat": 4,
 "nbformat_minor": 2
}
