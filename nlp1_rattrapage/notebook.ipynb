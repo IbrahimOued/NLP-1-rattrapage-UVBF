{
 "cells": [
  {
   "cell_type": "code",
   "execution_count": 1,
   "metadata": {},
   "outputs": [
    {
     "name": "stderr",
     "output_type": "stream",
     "text": [
      "c:\\Users\\ibrao\\AppData\\Local\\pypoetry\\Cache\\virtualenvs\\nlp1-rattrapage-7qUmAFjS-py3.10\\lib\\site-packages\\past\\builtins\\misc.py:45: DeprecationWarning: the imp module is deprecated in favour of importlib and slated for removal in Python 3.12; see the module's documentation for alternative uses\n",
      "  from imp import reload\n",
      "c:\\Users\\ibrao\\AppData\\Local\\pypoetry\\Cache\\virtualenvs\\nlp1-rattrapage-7qUmAFjS-py3.10\\lib\\site-packages\\gensim\\matutils.py:22: DeprecationWarning: Please use `triu` from the `scipy.linalg` namespace, the `scipy.linalg.special_matrices` namespace is deprecated.\n",
      "  from scipy.linalg.special_matrices import triu\n"
     ]
    }
   ],
   "source": [
    "import os\n",
    "import pandas as pd\n",
    "import matplotlib.pyplot as plt\n",
    "import seaborn as sns\n",
    "sns.set()\n",
    "import spacy\n",
    "# !python -m spacy download en_core_web_md -qq\n",
    "import pyLDAvis.gensim_models\n",
    "pyLDAvis.enable_notebook()# Visualise inside a notebook\n",
    "import en_core_web_md\n",
    "from PyPDF2 import PdfReader\n",
    "from gensim.corpora.dictionary import Dictionary\n",
    "from gensim.models import LdaMulticore\n",
    "from gensim.models import CoherenceModel"
   ]
  },
  {
   "cell_type": "code",
   "execution_count": 2,
   "metadata": {},
   "outputs": [
    {
     "name": "stderr",
     "output_type": "stream",
     "text": [
      "c:\\Users\\ibrao\\AppData\\Local\\pypoetry\\Cache\\virtualenvs\\nlp1-rattrapage-7qUmAFjS-py3.10\\lib\\site-packages\\PyPDF2\\_page.py:1238: PdfReadWarning:  impossible to decode XFormObject /Im0\n",
      "  warnings.warn(\n"
     ]
    },
    {
     "ename": "TypeError",
     "evalue": "a bytes-like object is required, not 'dict'",
     "output_type": "error",
     "traceback": [
      "\u001b[1;31m---------------------------------------------------------------------------\u001b[0m",
      "\u001b[1;31mTypeError\u001b[0m                                 Traceback (most recent call last)",
      "\u001b[1;32mc:\\Users\\ibrao\\OneDrive\\Documents\\NLP 1 rattrapage\\nlp1-rattrapage\\nlp1_rattrapage\\notebook.ipynb Cell 2'\u001b[0m in \u001b[0;36m<cell line: 20>\u001b[1;34m()\u001b[0m\n\u001b[0;32m     <a href='vscode-notebook-cell:/c%3A/Users/ibrao/OneDrive/Documents/NLP%201%20rattrapage/nlp1-rattrapage/nlp1_rattrapage/notebook.ipynb#ch0000001?line=11'>12</a>\u001b[0m           text \u001b[39m+\u001b[39m\u001b[39m=\u001b[39m page\u001b[39m.\u001b[39mextract_text()\n\u001b[0;32m     <a href='vscode-notebook-cell:/c%3A/Users/ibrao/OneDrive/Documents/NLP%201%20rattrapage/nlp1-rattrapage/nlp1_rattrapage/notebook.ipynb#ch0000001?line=13'>14</a>\u001b[0m     \u001b[39m#   row = [pdf.metadata.title, text]\u001b[39;00m\n\u001b[0;32m     <a href='vscode-notebook-cell:/c%3A/Users/ibrao/OneDrive/Documents/NLP%201%20rattrapage/nlp1-rattrapage/nlp1_rattrapage/notebook.ipynb#ch0000001?line=14'>15</a>\u001b[0m     \u001b[39m# dataset.append(row)\u001b[39;00m\n\u001b[0;32m     <a href='vscode-notebook-cell:/c%3A/Users/ibrao/OneDrive/Documents/NLP%201%20rattrapage/nlp1-rattrapage/nlp1_rattrapage/notebook.ipynb#ch0000001?line=15'>16</a>\u001b[0m   \u001b[39m# df = pd.DataFrame(dataset, columns=['title', 'text'])\u001b[39;00m\n\u001b[0;32m     <a href='vscode-notebook-cell:/c%3A/Users/ibrao/OneDrive/Documents/NLP%201%20rattrapage/nlp1-rattrapage/nlp1_rattrapage/notebook.ipynb#ch0000001?line=16'>17</a>\u001b[0m   \u001b[39m# return df\u001b[39;00m\n\u001b[1;32m---> <a href='vscode-notebook-cell:/c%3A/Users/ibrao/OneDrive/Documents/NLP%201%20rattrapage/nlp1-rattrapage/nlp1_rattrapage/notebook.ipynb#ch0000001?line=19'>20</a>\u001b[0m get_documents(\u001b[39m'\u001b[39;49m\u001b[39m../docs/\u001b[39;49m\u001b[39m'\u001b[39;49m)\n",
      "\u001b[1;32mc:\\Users\\ibrao\\OneDrive\\Documents\\NLP 1 rattrapage\\nlp1-rattrapage\\nlp1_rattrapage\\notebook.ipynb Cell 2'\u001b[0m in \u001b[0;36mget_documents\u001b[1;34m(path)\u001b[0m\n\u001b[0;32m     <a href='vscode-notebook-cell:/c%3A/Users/ibrao/OneDrive/Documents/NLP%201%20rattrapage/nlp1-rattrapage/nlp1_rattrapage/notebook.ipynb#ch0000001?line=9'>10</a>\u001b[0m text \u001b[39m=\u001b[39m \u001b[39m\"\u001b[39m\u001b[39m\"\u001b[39m\n\u001b[0;32m     <a href='vscode-notebook-cell:/c%3A/Users/ibrao/OneDrive/Documents/NLP%201%20rattrapage/nlp1-rattrapage/nlp1_rattrapage/notebook.ipynb#ch0000001?line=10'>11</a>\u001b[0m \u001b[39mfor\u001b[39;00m page \u001b[39min\u001b[39;00m pdf\u001b[39m.\u001b[39mpages:\n\u001b[1;32m---> <a href='vscode-notebook-cell:/c%3A/Users/ibrao/OneDrive/Documents/NLP%201%20rattrapage/nlp1-rattrapage/nlp1_rattrapage/notebook.ipynb#ch0000001?line=11'>12</a>\u001b[0m     text \u001b[39m+\u001b[39m\u001b[39m=\u001b[39m page\u001b[39m.\u001b[39;49mextract_text()\n",
      "File \u001b[1;32mc:\\Users\\ibrao\\AppData\\Local\\pypoetry\\Cache\\virtualenvs\\nlp1-rattrapage-7qUmAFjS-py3.10\\lib\\site-packages\\PyPDF2\\_page.py:1263\u001b[0m, in \u001b[0;36mPageObject.extract_text\u001b[1;34m(self, Tj_sep, TJ_sep, space_width)\u001b[0m\n\u001b[0;32m   <a href='file:///c%3A/Users/ibrao/AppData/Local/pypoetry/Cache/virtualenvs/nlp1-rattrapage-7qUmAFjS-py3.10/lib/site-packages/PyPDF2/_page.py?line=1248'>1249</a>\u001b[0m \u001b[39mdef\u001b[39;00m \u001b[39mextract_text\u001b[39m(\n\u001b[0;32m   <a href='file:///c%3A/Users/ibrao/AppData/Local/pypoetry/Cache/virtualenvs/nlp1-rattrapage-7qUmAFjS-py3.10/lib/site-packages/PyPDF2/_page.py?line=1249'>1250</a>\u001b[0m     \u001b[39mself\u001b[39m, Tj_sep: \u001b[39mstr\u001b[39m \u001b[39m=\u001b[39m \u001b[39m\"\u001b[39m\u001b[39m\"\u001b[39m, TJ_sep: \u001b[39mstr\u001b[39m \u001b[39m=\u001b[39m \u001b[39m\"\u001b[39m\u001b[39m\"\u001b[39m, space_width: \u001b[39mfloat\u001b[39m \u001b[39m=\u001b[39m \u001b[39m200.0\u001b[39m\n\u001b[0;32m   <a href='file:///c%3A/Users/ibrao/AppData/Local/pypoetry/Cache/virtualenvs/nlp1-rattrapage-7qUmAFjS-py3.10/lib/site-packages/PyPDF2/_page.py?line=1250'>1251</a>\u001b[0m ) \u001b[39m-\u001b[39m\u001b[39m>\u001b[39m \u001b[39mstr\u001b[39m:\n\u001b[0;32m   <a href='file:///c%3A/Users/ibrao/AppData/Local/pypoetry/Cache/virtualenvs/nlp1-rattrapage-7qUmAFjS-py3.10/lib/site-packages/PyPDF2/_page.py?line=1251'>1252</a>\u001b[0m     \u001b[39m\"\"\"\u001b[39;00m\n\u001b[0;32m   <a href='file:///c%3A/Users/ibrao/AppData/Local/pypoetry/Cache/virtualenvs/nlp1-rattrapage-7qUmAFjS-py3.10/lib/site-packages/PyPDF2/_page.py?line=1252'>1253</a>\u001b[0m \u001b[39m    Locate all text drawing commands, in the order they are provided in the\u001b[39;00m\n\u001b[0;32m   <a href='file:///c%3A/Users/ibrao/AppData/Local/pypoetry/Cache/virtualenvs/nlp1-rattrapage-7qUmAFjS-py3.10/lib/site-packages/PyPDF2/_page.py?line=1253'>1254</a>\u001b[0m \u001b[39m    content stream, and extract the text.  This works well for some PDF\u001b[39;00m\n\u001b[1;32m   (...)\u001b[0m\n\u001b[0;32m   <a href='file:///c%3A/Users/ibrao/AppData/Local/pypoetry/Cache/virtualenvs/nlp1-rattrapage-7qUmAFjS-py3.10/lib/site-packages/PyPDF2/_page.py?line=1260'>1261</a>\u001b[0m \u001b[39m    :return: a string object.\u001b[39;00m\n\u001b[0;32m   <a href='file:///c%3A/Users/ibrao/AppData/Local/pypoetry/Cache/virtualenvs/nlp1-rattrapage-7qUmAFjS-py3.10/lib/site-packages/PyPDF2/_page.py?line=1261'>1262</a>\u001b[0m \u001b[39m    \"\"\"\u001b[39;00m\n\u001b[1;32m-> <a href='file:///c%3A/Users/ibrao/AppData/Local/pypoetry/Cache/virtualenvs/nlp1-rattrapage-7qUmAFjS-py3.10/lib/site-packages/PyPDF2/_page.py?line=1262'>1263</a>\u001b[0m     \u001b[39mreturn\u001b[39;00m \u001b[39mself\u001b[39;49m\u001b[39m.\u001b[39;49m_extract_text(\u001b[39mself\u001b[39;49m, \u001b[39mself\u001b[39;49m\u001b[39m.\u001b[39;49mpdf, space_width, PG\u001b[39m.\u001b[39;49mCONTENTS)\n",
      "File \u001b[1;32mc:\\Users\\ibrao\\AppData\\Local\\pypoetry\\Cache\\virtualenvs\\nlp1-rattrapage-7qUmAFjS-py3.10\\lib\\site-packages\\PyPDF2\\_page.py:1245\u001b[0m, in \u001b[0;36mPageObject._extract_text\u001b[1;34m(self, obj, pdf, space_width, content_key)\u001b[0m\n\u001b[0;32m   <a href='file:///c%3A/Users/ibrao/AppData/Local/pypoetry/Cache/virtualenvs/nlp1-rattrapage-7qUmAFjS-py3.10/lib/site-packages/PyPDF2/_page.py?line=1242'>1243</a>\u001b[0m             text \u001b[39m=\u001b[39m \u001b[39m\"\u001b[39m\u001b[39m\"\u001b[39m\n\u001b[0;32m   <a href='file:///c%3A/Users/ibrao/AppData/Local/pypoetry/Cache/virtualenvs/nlp1-rattrapage-7qUmAFjS-py3.10/lib/site-packages/PyPDF2/_page.py?line=1243'>1244</a>\u001b[0m     \u001b[39melse\u001b[39;00m:\n\u001b[1;32m-> <a href='file:///c%3A/Users/ibrao/AppData/Local/pypoetry/Cache/virtualenvs/nlp1-rattrapage-7qUmAFjS-py3.10/lib/site-packages/PyPDF2/_page.py?line=1244'>1245</a>\u001b[0m         process_operation(operator, operands)\n\u001b[0;32m   <a href='file:///c%3A/Users/ibrao/AppData/Local/pypoetry/Cache/virtualenvs/nlp1-rattrapage-7qUmAFjS-py3.10/lib/site-packages/PyPDF2/_page.py?line=1245'>1246</a>\u001b[0m output \u001b[39m+\u001b[39m\u001b[39m=\u001b[39m text  \u001b[39m# just in case of\u001b[39;00m\n\u001b[0;32m   <a href='file:///c%3A/Users/ibrao/AppData/Local/pypoetry/Cache/virtualenvs/nlp1-rattrapage-7qUmAFjS-py3.10/lib/site-packages/PyPDF2/_page.py?line=1246'>1247</a>\u001b[0m \u001b[39mreturn\u001b[39;00m output\n",
      "File \u001b[1;32mc:\\Users\\ibrao\\AppData\\Local\\pypoetry\\Cache\\virtualenvs\\nlp1-rattrapage-7qUmAFjS-py3.10\\lib\\site-packages\\PyPDF2\\_page.py:1197\u001b[0m, in \u001b[0;36mPageObject._extract_text.<locals>.process_operation\u001b[1;34m(operator, operands)\u001b[0m\n\u001b[0;32m   <a href='file:///c%3A/Users/ibrao/AppData/Local/pypoetry/Cache/virtualenvs/nlp1-rattrapage-7qUmAFjS-py3.10/lib/site-packages/PyPDF2/_page.py?line=1194'>1195</a>\u001b[0m     tm_matrix[\u001b[39m5\u001b[39m] \u001b[39m-\u001b[39m\u001b[39m=\u001b[39m TL\n\u001b[0;32m   <a href='file:///c%3A/Users/ibrao/AppData/Local/pypoetry/Cache/virtualenvs/nlp1-rattrapage-7qUmAFjS-py3.10/lib/site-packages/PyPDF2/_page.py?line=1195'>1196</a>\u001b[0m \u001b[39melif\u001b[39;00m operator \u001b[39m==\u001b[39m \u001b[39mb\u001b[39m\u001b[39m\"\u001b[39m\u001b[39mTj\u001b[39m\u001b[39m\"\u001b[39m:\n\u001b[1;32m-> <a href='file:///c%3A/Users/ibrao/AppData/Local/pypoetry/Cache/virtualenvs/nlp1-rattrapage-7qUmAFjS-py3.10/lib/site-packages/PyPDF2/_page.py?line=1196'>1197</a>\u001b[0m     text \u001b[39m+\u001b[39m\u001b[39m=\u001b[39m operands[\u001b[39m0\u001b[39;49m]\u001b[39m.\u001b[39;49mtranslate(cmap)\n\u001b[0;32m   <a href='file:///c%3A/Users/ibrao/AppData/Local/pypoetry/Cache/virtualenvs/nlp1-rattrapage-7qUmAFjS-py3.10/lib/site-packages/PyPDF2/_page.py?line=1197'>1198</a>\u001b[0m \u001b[39melse\u001b[39;00m:\n\u001b[0;32m   <a href='file:///c%3A/Users/ibrao/AppData/Local/pypoetry/Cache/virtualenvs/nlp1-rattrapage-7qUmAFjS-py3.10/lib/site-packages/PyPDF2/_page.py?line=1198'>1199</a>\u001b[0m     \u001b[39mreturn\u001b[39;00m \u001b[39mNone\u001b[39;00m\n",
      "\u001b[1;31mTypeError\u001b[0m: a bytes-like object is required, not 'dict'"
     ]
    }
   ],
   "source": [
    "def get_documents(path):\n",
    "  \"\"\"\n",
    "  Extract text from a PDF file.\n",
    "  \"\"\"\n",
    "  dataset = []\n",
    "  for file in os.listdir(path):\n",
    "    if file.endswith('.pdf'):\n",
    "      pdf_file = open(path + '/' + file, 'rb')\n",
    "      pdf = PdfReader(pdf_file)\n",
    "      text = \"\"\n",
    "      for page in pdf.pages:\n",
    "          text += page.extract_text()\n",
    "      \n",
    "    #   row = [pdf.metadata.title, text]\n",
    "    # dataset.append(row)\n",
    "  # df = pd.DataFrame(dataset, columns=['title', 'text'])\n",
    "  # return df\n",
    "\n",
    "\n",
    "get_documents('../docs/')\n",
    "# df.head()"
   ]
  },
  {
   "cell_type": "markdown",
   "metadata": {},
   "source": [
    "[Project link here](https://towardsdatascience.com/topic-modelling-in-python-with-spacy-and-gensim-dc8f7748bdbf)"
   ]
  },
  {
   "cell_type": "markdown",
   "metadata": {},
   "source": []
  }
 ],
 "metadata": {
  "interpreter": {
   "hash": "13a42bfd1ea82090c1d0ce84b92d41f60d31479f04fec49b0098f77dabe61557"
  },
  "kernelspec": {
   "display_name": "Python 3.10.4 ('nlp1-rattrapage-7qUmAFjS-py3.10')",
   "language": "python",
   "name": "python3"
  },
  "language_info": {
   "codemirror_mode": {
    "name": "ipython",
    "version": 3
   },
   "file_extension": ".py",
   "mimetype": "text/x-python",
   "name": "python",
   "nbconvert_exporter": "python",
   "pygments_lexer": "ipython3",
   "version": "3.10.4"
  },
  "orig_nbformat": 4
 },
 "nbformat": 4,
 "nbformat_minor": 2
}
